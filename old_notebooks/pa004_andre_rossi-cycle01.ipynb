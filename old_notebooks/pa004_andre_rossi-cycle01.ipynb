{
 "cells": [
  {
   "cell_type": "markdown",
   "metadata": {},
   "source": [
    "# Insurance All"
   ]
  },
  {
   "cell_type": "markdown",
   "metadata": {},
   "source": [
    "# Business Problem\n",
    "\n",
    "Insurance All is a company that provides health insurance to its customers and the product team is analyzing the possibility of offering policyholders a new product: auto insurance.\n",
    "\n",
    "As with health insurance, customers of this new auto insurance plan need to pay an amount annually to Insurance All to obtain an amount insured by the company, aimed at the costs of an eventual accident or damage to the vehicle.\n",
    "\n",
    "Insurance All conducted a survey of about 380,000 customers about their interest in joining a new auto insurance product last year. All customers expressed interest or not in purchasing auto insurance and these responses were saved in a database along with other customer attributes.\n",
    "\n",
    "The product team selected 127 thousand new customers who did not respond to the survey to participate in a campaign, in which they will receive the offer of the new auto insurance product. The offer will be made by the sales team through telephone calls.\n",
    "\n",
    "However, the sales team has the capacity to make 20 thousand calls within the campaign period.\n",
    "\n",
    "The challenge\n",
    "In that context, it is necessary build a model that predicts whether or not the customer would be interested in auto insurance.\n",
    "\n",
    "With its solution, the sales team hopes to be able to prioritize the people with the greatest interest in the new product and optimize the campaign by making only contacts with customers most likely to make the purchase.\n",
    "\n",
    "As a result of the project, it is needed to deliver a report containing some analysis and answers to the following questions:\n",
    "\n",
    "- Main Insights about the most relevant attributes of customers interested in purchasing auto insurance.\n",
    "\n",
    "- What percentage of customers interested in purchasing auto insurance will the sales team be able to contact by making 20,000 calls?\n",
    "\n",
    "- And if the sales team's capacity increases to 40,000 calls, what percentage of customers interested in purchasing auto insurance will the sales team be able to contact?\n",
    "\n",
    "- How many calls does the sales team need to make to contact 80% of customers interested in purchasing auto insurance?"
   ]
  },
  {
   "cell_type": "markdown",
   "metadata": {
    "ExecuteTime": {
     "end_time": "2021-01-07T17:35:14.485407Z",
     "start_time": "2021-01-07T17:35:14.480910Z"
    }
   },
   "source": [
    "# Data Base Credentials\n",
    "\n",
    "- Database: Postgres 12.0 - AWS\n",
    "- Credentials:\n",
    "- HOST = comunidade-ds-postgres.c50pcakiuwi3.us-east-1.rds.amazonaws.com\n",
    "- PORT=5432\n",
    "- Database=comunidadedsdb\n",
    "- Username=member\n",
    "- Password=cdspa\n",
    "- Presentation of PA004: https://docs.google.com/presentation/d/1gMo5xFPSvAEWsFGHyZKgLLQwzvg2lc65BSXuaLLmWyg/edit?usp=sharing\n",
    "- Link for business probelm: https://sejaumdatascientist.com/como-usar-data-science-para-fazer-a-empresa-vender-mais/"
   ]
  },
  {
   "cell_type": "markdown",
   "metadata": {},
   "source": [
    "# Imports"
   ]
  },
  {
   "cell_type": "code",
   "execution_count": 1,
   "metadata": {
    "ExecuteTime": {
     "end_time": "2021-01-28T01:21:49.133077Z",
     "start_time": "2021-01-28T01:21:48.038775Z"
    },
    "init_cell": true
   },
   "outputs": [],
   "source": [
    "# databse conmection\n",
    "import psycopg2\n",
    "from psycopg2 import OperationalError\n",
    "\n",
    "# data manipulation\n",
    "import pandas as pd\n",
    "\n",
    "# data visualization\n",
    "from matplotlib import pyplot as plt\n",
    "import seaborn  as sns\n",
    "\n",
    "# data analysis\n",
    "from pandas_profiling import ProfileReport\n",
    "\n",
    "# split dataset\n",
    "from sklearn.model_selection import train_test_split\n",
    "\n",
    "# Feature Selection\n",
    "from boruta import BorutaPy\n",
    "\n",
    "# machine learning\n",
    "from xgboost              import XGBClassifier\n",
    "from sklearn.ensemble     import RandomForestClassifier, ExtraTreesClassifier\n",
    "from sklearn.neighbors    import KNeighborsClassifier\n",
    "from sklearn.linear_model import LogisticRegression, SGDClassifier, RidgeClassifier\n",
    "from lightgbm             import LGBMClassifier\n",
    "from sklearn.naive_bayes  import GaussianNB\n",
    "from imblearn.ensemble    import BalancedRandomForestClassifier\n",
    "from catboost             import CatBoostClassifier\n",
    "\n",
    "# metrcis\n",
    "from sklearn.metrics import accuracy_score, balanced_accuracy_score, precision_score, recall_score\n",
    "from sklearn.metrics import roc_auc_score, f1_score, cohen_kappa_score, brier_score_loss, classification_report\n",
    "from sklearn.metrics import precision_recall_curve, roc_curve\n",
    "\n",
    "# confusion matrix\n",
    "from sklearn.metrics import plot_confusion_matrix\n",
    "\n",
    "# threshold\n",
    "from numpy import argmax\n",
    "\n",
    "#fine tuning\n",
    "from skopt import BayesSearchCV\n",
    "\n",
    "# calibration\n",
    "from sklearn.calibration import CalibratedClassifierCV, calibration_curve\n",
    "\n",
    "# cross validation\n",
    "from sklearn.model_selection import cross_val_score, RepeatedStratifiedKFold \n",
    "\n",
    "# display\n",
    "from IPython.core.display import HTML\n",
    "\n",
    "# save pickle objects\n",
    "import pickle\n",
    "\n",
    "# filter warnings\n"
   ]
  },
  {
   "cell_type": "markdown",
   "metadata": {},
   "source": [
    "# Functions"
   ]
  },
  {
   "cell_type": "code",
   "execution_count": 2,
   "metadata": {
    "ExecuteTime": {
     "end_time": "2021-01-28T01:21:49.162604Z",
     "start_time": "2021-01-28T01:21:49.134909Z"
    },
    "init_cell": true
   },
   "outputs": [
    {
     "name": "stdout",
     "output_type": "stream",
     "text": [
      "Populating the interactive namespace from numpy and matplotlib\n"
     ]
    }
   ],
   "source": [
    "###########################################################################################################################\n",
    "    \n",
    "# Machine Learning Performance\n",
    "def ml_performance(models, x_train, y_train, x_valid, y_valid, threshold):\n",
    "    model_df = []     \n",
    "    for model in models:\n",
    "        print(\"Training \" + type(model).__name__ + \"...\")\n",
    "        model.fit(x_train, y_train)\n",
    "        \n",
    "        # predict positive probabilities according to a threshold\n",
    "        y_proba = model.predict_proba(x_valid)[:, 1]\n",
    "        y_hat = (y_proba >= threshold).astype(int)\n",
    "        \n",
    "        # metrics\n",
    "        f1 = f1_score(y_valid, y_hat)\n",
    "        accuracy = accuracy_score(y_valid, y_hat)\n",
    "        bal_accuracy = balanced_accuracy_score(y_valid, y_hat)\n",
    "        kappa = cohen_kappa_score(y_valid, y_hat)\n",
    "        roc_auc = roc_auc_score(y_valid, y_hat)\n",
    "        precision = precision_score(y_valid, y_hat)\n",
    "        recall = recall_score(y_valid, y_hat)\n",
    "        brier = brier_score_loss(y_valid, y_hat, pos_label=1)\n",
    "        \n",
    "        metrics = pd.DataFrame({'Model Name': type(model).__name__,'Accuracy': accuracy, 'Bal Accuracy': bal_accuracy,\n",
    "                                'Precision': precision,'Recall': recall,'F1-Score': f1,'ROC-AUC': roc_auc,'Kappa': kappa,\n",
    "                                'Brier': brier}, index = [0]).sort_values('F1-Score', ascending = False)\n",
    "        \n",
    "        model_df.append(metrics)\n",
    "        final_model = pd.concat(model_df)\n",
    "    return final_model.sort_values(by='F1-Score', ascending=False).round(5)\n",
    "\n",
    "###########################################################################################################################\n",
    "\n",
    "# Confusion Matrix\n",
    "def conf_matrix (model, x_train, y_train, x_valid, y_valid):\n",
    "    model.fit(x_train, y_train)\n",
    "    fig, ax = plt.subplots(figsize=(10, 10))\n",
    "    plot_confusion_matrix(model, x_valid, y_valid, cmap='magma_r', normalize='true', ax=ax)\n",
    "    plt.title(type(model).__name__, size = 20)\n",
    "    plt.xlabel(\"Predicted label\", size=20)\n",
    "    plt.ylabel(\"True label\", size=20)\n",
    "    plt.grid(False)\n",
    "    \n",
    "###########################################################################################################################\n",
    "    \n",
    "# Cross Validation\n",
    "def cross_validation(models, X, y, cv):\n",
    "    cv_df = []\n",
    "    for n in models:\n",
    "        accuracy_cv = cross_val_score(n, X, y, cv = cv, scoring='accuracy', n_jobs=-1)\n",
    "        accuracy = \"{:.4f} +/- %{:.4f}\".format(accuracy_cv.mean(), accuracy_cv.std())\n",
    "        bal_accuracy_cv = cross_val_score(n, X, y, cv = cv, scoring='balanced_accuracy', n_jobs=-1)\n",
    "        bal_accuracy = \"{:.4f} +/- %{:.4f}\".format(bal_accuracy_cv.mean(), bal_accuracy_cv.std())\n",
    "        prec_cv = cross_val_score(n, X, y, cv = cv, scoring='precision', n_jobs=-1)\n",
    "        prec = \"{:.4f} +/- %{:.4f}\".format(prec_cv.mean(), prec_cv.std())\n",
    "        recall_cv = cross_val_score(n, X, y, cv = cv, scoring='recall', n_jobs=-1)\n",
    "        recall = \"{:.4f} +/- %{:.4f}\".format(recall_cv.mean(), recall_cv.std())\n",
    "        f1_score_cv = cross_val_score(n, X, y, cv = cv, scoring='f1', n_jobs=-1)\n",
    "        f1_score = \"{:.4f} +/- %{:.4f}\".format(f1_score_cv.mean(), f1_score_cv.std())\n",
    "        roc_auc_cv = cross_val_score(n, X, y, cv = cv, scoring='roc_auc', n_jobs=-1)\n",
    "        roc_auc = \"{:.4f} +/- %{:.4f}\".format(roc_auc_cv.mean(), roc_auc_cv.std())\n",
    "        \n",
    "                \n",
    "        A = pd.DataFrame( {'Model Name': type(n).__name__,\n",
    "                           'Accuracy (Avg+Std)': accuracy,\n",
    "                           'Bal Accuracy (Avg+Std)': bal_accuracy,\n",
    "                           'Precision (Avg+Std) ': prec,\n",
    "                           'Recall (Avg+Std) ': recall,\n",
    "                           'F1-Score (Avg+Std)': f1_score,\n",
    "                           'ROC-AUC (Avg+Std)': roc_auc }, index = [0])\n",
    "    \n",
    "        cv_df.append(A)\n",
    "        final_df = pd.concat(cv_df)\n",
    "\n",
    "    return final_df\n",
    "    \n",
    "###########################################################################################################################\n",
    "\n",
    "# Jupyter Settings\n",
    "def jupyter_settings():\n",
    "    %matplotlib inline\n",
    "    %pylab inline\n",
    "    \n",
    "    plt.style.use( 'bmh' )\n",
    "    plt.rcParams['figure.figsize'] = [25, 12]\n",
    "    plt.rcParams['font.size'] = 25\n",
    "    #display( HTML( '<style>.container { width:80% !important; }</style>') )\n",
    "    pd.set_option('display.float_format', lambda x: '%.5f' % x)\n",
    "    pd.set_option( 'display.expand_frame_repr', False )\n",
    "    sns.set()\n",
    "    \n",
    "jupyter_settings()\n",
    "    \n",
    "###########################################################################################################################"
   ]
  },
  {
   "cell_type": "code",
   "execution_count": 77,
   "metadata": {
    "ExecuteTime": {
     "end_time": "2021-01-10T06:30:55.964786Z",
     "start_time": "2021-01-10T06:30:55.958670Z"
    },
    "deletable": false,
    "editable": false,
    "run_control": {
     "frozen": true
    }
   },
   "outputs": [],
   "source": [
    "# function to test the conection\n",
    "def create_connection(db_name, db_user, db_password, db_host, db_port):\n",
    "    connection = None\n",
    "    try:\n",
    "        connection = psycopg2.connect(\n",
    "            database=db_name,\n",
    "            user=db_user,\n",
    "            password=db_password,\n",
    "            host=db_host,\n",
    "            port=db_port,\n",
    "        )\n",
    "        print(\"Connection to PostgreSQL DB successful\")\n",
    "    except OperationalError as e:\n",
    "        print(f\"The error '{e}' occurred\")\n",
    "    return connection"
   ]
  },
  {
   "cell_type": "code",
   "execution_count": 78,
   "metadata": {
    "ExecuteTime": {
     "end_time": "2021-01-10T06:30:58.627637Z",
     "start_time": "2021-01-10T06:30:57.038895Z"
    },
    "deletable": false,
    "editable": false,
    "run_control": {
     "frozen": true
    }
   },
   "outputs": [
    {
     "name": "stdout",
     "output_type": "stream",
     "text": [
      "Connection to PostgreSQL DB successful\n"
     ]
    },
    {
     "data": {
      "text/plain": [
       "<connection object at 0x7fba81c3ed50; dsn: 'user=member password=xxx dbname=comunidadedsdb host=comunidade-ds-postgres.c50pcakiuwi3.us-east-1.rds.amazonaws.com port=5432', closed: 0>"
      ]
     },
     "execution_count": 78,
     "metadata": {},
     "output_type": "execute_result"
    }
   ],
   "source": [
    "# test the conection\n",
    "create_connection(\"comunidadedsdb\", \"member\", \"cdspa\", \"comunidade-ds-postgres.c50pcakiuwi3.us-east-1.rds.amazonaws.com\", \"5432\")"
   ]
  },
  {
   "cell_type": "code",
   "execution_count": 3,
   "metadata": {
    "ExecuteTime": {
     "end_time": "2021-01-28T01:21:50.805288Z",
     "start_time": "2021-01-28T01:21:49.163816Z"
    },
    "init_cell": true
   },
   "outputs": [],
   "source": [
    "# connect\n",
    "conn = psycopg2.connect(database=\"comunidadedsdb\",\n",
    "                               user=\"member\",\n",
    "                               password=\"cdspa\",\n",
    "                               host=\"comunidade-ds-postgres.c50pcakiuwi3.us-east-1.rds.amazonaws.com\",\n",
    "                               port=\"5432\")\n",
    "\n",
    "cursor = conn.cursor()"
   ]
  },
  {
   "cell_type": "code",
   "execution_count": 4,
   "metadata": {
    "ExecuteTime": {
     "end_time": "2021-01-28T01:21:51.214554Z",
     "start_time": "2021-01-28T01:21:50.807193Z"
    },
    "init_cell": true
   },
   "outputs": [
    {
     "name": "stdout",
     "output_type": "stream",
     "text": [
      "[('users',), ('vehicle',), ('insurance',)]\n"
     ]
    }
   ],
   "source": [
    "# print the tables\n",
    "cursor.execute(\"select relname from pg_class where relkind='r' and relname !~ '^(pg_|sql_)';\")\n",
    "print(cursor.fetchall())"
   ]
  },
  {
   "cell_type": "code",
   "execution_count": 5,
   "metadata": {
    "ExecuteTime": {
     "end_time": "2021-01-28T01:22:34.734110Z",
     "start_time": "2021-01-28T01:21:51.216411Z"
    },
    "init_cell": true
   },
   "outputs": [],
   "source": [
    "# import the tables\n",
    "df_users = pd.read_sql(\"SELECT * FROM pa004.users\", con=conn)\n",
    "df_vehicle = pd.read_sql(\"SELECT * FROM pa004.vehicle\", con=conn)\n",
    "df_insurance = pd.read_sql(\"SELECT * FROM pa004.insurance\", con=conn)"
   ]
  },
  {
   "cell_type": "code",
   "execution_count": 104,
   "metadata": {
    "ExecuteTime": {
     "end_time": "2021-01-09T14:47:40.442279Z",
     "start_time": "2021-01-09T14:47:40.431970Z"
    }
   },
   "outputs": [
    {
     "data": {
      "text/html": [
       "<div>\n",
       "<style scoped>\n",
       "    .dataframe tbody tr th:only-of-type {\n",
       "        vertical-align: middle;\n",
       "    }\n",
       "\n",
       "    .dataframe tbody tr th {\n",
       "        vertical-align: top;\n",
       "    }\n",
       "\n",
       "    .dataframe thead th {\n",
       "        text-align: right;\n",
       "    }\n",
       "</style>\n",
       "<table border=\"1\" class=\"dataframe\">\n",
       "  <thead>\n",
       "    <tr style=\"text-align: right;\">\n",
       "      <th></th>\n",
       "      <th>id</th>\n",
       "      <th>gender</th>\n",
       "      <th>age</th>\n",
       "      <th>region_code</th>\n",
       "      <th>policy_sales_channel</th>\n",
       "    </tr>\n",
       "  </thead>\n",
       "  <tbody>\n",
       "    <tr>\n",
       "      <th>0</th>\n",
       "      <td>1</td>\n",
       "      <td>Male</td>\n",
       "      <td>44</td>\n",
       "      <td>28.0</td>\n",
       "      <td>26.0</td>\n",
       "    </tr>\n",
       "    <tr>\n",
       "      <th>1</th>\n",
       "      <td>2</td>\n",
       "      <td>Male</td>\n",
       "      <td>76</td>\n",
       "      <td>3.0</td>\n",
       "      <td>26.0</td>\n",
       "    </tr>\n",
       "    <tr>\n",
       "      <th>2</th>\n",
       "      <td>3</td>\n",
       "      <td>Male</td>\n",
       "      <td>47</td>\n",
       "      <td>28.0</td>\n",
       "      <td>26.0</td>\n",
       "    </tr>\n",
       "    <tr>\n",
       "      <th>3</th>\n",
       "      <td>4</td>\n",
       "      <td>Male</td>\n",
       "      <td>21</td>\n",
       "      <td>11.0</td>\n",
       "      <td>152.0</td>\n",
       "    </tr>\n",
       "    <tr>\n",
       "      <th>4</th>\n",
       "      <td>5</td>\n",
       "      <td>Female</td>\n",
       "      <td>29</td>\n",
       "      <td>41.0</td>\n",
       "      <td>152.0</td>\n",
       "    </tr>\n",
       "    <tr>\n",
       "      <th>...</th>\n",
       "      <td>...</td>\n",
       "      <td>...</td>\n",
       "      <td>...</td>\n",
       "      <td>...</td>\n",
       "      <td>...</td>\n",
       "    </tr>\n",
       "    <tr>\n",
       "      <th>381104</th>\n",
       "      <td>381105</td>\n",
       "      <td>Male</td>\n",
       "      <td>74</td>\n",
       "      <td>26.0</td>\n",
       "      <td>26.0</td>\n",
       "    </tr>\n",
       "    <tr>\n",
       "      <th>381105</th>\n",
       "      <td>381106</td>\n",
       "      <td>Male</td>\n",
       "      <td>30</td>\n",
       "      <td>37.0</td>\n",
       "      <td>152.0</td>\n",
       "    </tr>\n",
       "    <tr>\n",
       "      <th>381106</th>\n",
       "      <td>381107</td>\n",
       "      <td>Male</td>\n",
       "      <td>21</td>\n",
       "      <td>30.0</td>\n",
       "      <td>160.0</td>\n",
       "    </tr>\n",
       "    <tr>\n",
       "      <th>381107</th>\n",
       "      <td>381108</td>\n",
       "      <td>Female</td>\n",
       "      <td>68</td>\n",
       "      <td>14.0</td>\n",
       "      <td>124.0</td>\n",
       "    </tr>\n",
       "    <tr>\n",
       "      <th>381108</th>\n",
       "      <td>381109</td>\n",
       "      <td>Male</td>\n",
       "      <td>46</td>\n",
       "      <td>29.0</td>\n",
       "      <td>26.0</td>\n",
       "    </tr>\n",
       "  </tbody>\n",
       "</table>\n",
       "<p>381109 rows × 5 columns</p>\n",
       "</div>"
      ],
      "text/plain": [
       "            id  gender  age  region_code  policy_sales_channel\n",
       "0            1    Male   44         28.0                  26.0\n",
       "1            2    Male   76          3.0                  26.0\n",
       "2            3    Male   47         28.0                  26.0\n",
       "3            4    Male   21         11.0                 152.0\n",
       "4            5  Female   29         41.0                 152.0\n",
       "...        ...     ...  ...          ...                   ...\n",
       "381104  381105    Male   74         26.0                  26.0\n",
       "381105  381106    Male   30         37.0                 152.0\n",
       "381106  381107    Male   21         30.0                 160.0\n",
       "381107  381108  Female   68         14.0                 124.0\n",
       "381108  381109    Male   46         29.0                  26.0\n",
       "\n",
       "[381109 rows x 5 columns]"
      ]
     },
     "execution_count": 104,
     "metadata": {},
     "output_type": "execute_result"
    }
   ],
   "source": [
    "# show users dataset\n",
    "df_users"
   ]
  },
  {
   "cell_type": "code",
   "execution_count": 105,
   "metadata": {
    "ExecuteTime": {
     "end_time": "2021-01-09T14:47:40.458115Z",
     "start_time": "2021-01-09T14:47:40.444398Z"
    }
   },
   "outputs": [
    {
     "data": {
      "text/html": [
       "<div>\n",
       "<style scoped>\n",
       "    .dataframe tbody tr th:only-of-type {\n",
       "        vertical-align: middle;\n",
       "    }\n",
       "\n",
       "    .dataframe tbody tr th {\n",
       "        vertical-align: top;\n",
       "    }\n",
       "\n",
       "    .dataframe thead th {\n",
       "        text-align: right;\n",
       "    }\n",
       "</style>\n",
       "<table border=\"1\" class=\"dataframe\">\n",
       "  <thead>\n",
       "    <tr style=\"text-align: right;\">\n",
       "      <th></th>\n",
       "      <th>id</th>\n",
       "      <th>driving_license</th>\n",
       "      <th>vehicle_age</th>\n",
       "      <th>vehicle_damage</th>\n",
       "    </tr>\n",
       "  </thead>\n",
       "  <tbody>\n",
       "    <tr>\n",
       "      <th>0</th>\n",
       "      <td>1</td>\n",
       "      <td>1</td>\n",
       "      <td>&gt; 2 Years</td>\n",
       "      <td>Yes</td>\n",
       "    </tr>\n",
       "    <tr>\n",
       "      <th>1</th>\n",
       "      <td>2</td>\n",
       "      <td>1</td>\n",
       "      <td>1-2 Year</td>\n",
       "      <td>No</td>\n",
       "    </tr>\n",
       "    <tr>\n",
       "      <th>2</th>\n",
       "      <td>3</td>\n",
       "      <td>1</td>\n",
       "      <td>&gt; 2 Years</td>\n",
       "      <td>Yes</td>\n",
       "    </tr>\n",
       "    <tr>\n",
       "      <th>3</th>\n",
       "      <td>4</td>\n",
       "      <td>1</td>\n",
       "      <td>&lt; 1 Year</td>\n",
       "      <td>No</td>\n",
       "    </tr>\n",
       "    <tr>\n",
       "      <th>4</th>\n",
       "      <td>5</td>\n",
       "      <td>1</td>\n",
       "      <td>&lt; 1 Year</td>\n",
       "      <td>No</td>\n",
       "    </tr>\n",
       "    <tr>\n",
       "      <th>...</th>\n",
       "      <td>...</td>\n",
       "      <td>...</td>\n",
       "      <td>...</td>\n",
       "      <td>...</td>\n",
       "    </tr>\n",
       "    <tr>\n",
       "      <th>381104</th>\n",
       "      <td>381105</td>\n",
       "      <td>1</td>\n",
       "      <td>1-2 Year</td>\n",
       "      <td>No</td>\n",
       "    </tr>\n",
       "    <tr>\n",
       "      <th>381105</th>\n",
       "      <td>381106</td>\n",
       "      <td>1</td>\n",
       "      <td>&lt; 1 Year</td>\n",
       "      <td>No</td>\n",
       "    </tr>\n",
       "    <tr>\n",
       "      <th>381106</th>\n",
       "      <td>381107</td>\n",
       "      <td>1</td>\n",
       "      <td>&lt; 1 Year</td>\n",
       "      <td>No</td>\n",
       "    </tr>\n",
       "    <tr>\n",
       "      <th>381107</th>\n",
       "      <td>381108</td>\n",
       "      <td>1</td>\n",
       "      <td>&gt; 2 Years</td>\n",
       "      <td>Yes</td>\n",
       "    </tr>\n",
       "    <tr>\n",
       "      <th>381108</th>\n",
       "      <td>381109</td>\n",
       "      <td>1</td>\n",
       "      <td>1-2 Year</td>\n",
       "      <td>No</td>\n",
       "    </tr>\n",
       "  </tbody>\n",
       "</table>\n",
       "<p>381109 rows × 4 columns</p>\n",
       "</div>"
      ],
      "text/plain": [
       "            id  driving_license vehicle_age vehicle_damage\n",
       "0            1                1   > 2 Years            Yes\n",
       "1            2                1    1-2 Year             No\n",
       "2            3                1   > 2 Years            Yes\n",
       "3            4                1    < 1 Year             No\n",
       "4            5                1    < 1 Year             No\n",
       "...        ...              ...         ...            ...\n",
       "381104  381105                1    1-2 Year             No\n",
       "381105  381106                1    < 1 Year             No\n",
       "381106  381107                1    < 1 Year             No\n",
       "381107  381108                1   > 2 Years            Yes\n",
       "381108  381109                1    1-2 Year             No\n",
       "\n",
       "[381109 rows x 4 columns]"
      ]
     },
     "execution_count": 105,
     "metadata": {},
     "output_type": "execute_result"
    }
   ],
   "source": [
    "# show vehicle dataset\n",
    "df_vehicle"
   ]
  },
  {
   "cell_type": "code",
   "execution_count": 106,
   "metadata": {
    "ExecuteTime": {
     "end_time": "2021-01-09T14:47:40.473347Z",
     "start_time": "2021-01-09T14:47:40.460104Z"
    }
   },
   "outputs": [
    {
     "data": {
      "text/html": [
       "<div>\n",
       "<style scoped>\n",
       "    .dataframe tbody tr th:only-of-type {\n",
       "        vertical-align: middle;\n",
       "    }\n",
       "\n",
       "    .dataframe tbody tr th {\n",
       "        vertical-align: top;\n",
       "    }\n",
       "\n",
       "    .dataframe thead th {\n",
       "        text-align: right;\n",
       "    }\n",
       "</style>\n",
       "<table border=\"1\" class=\"dataframe\">\n",
       "  <thead>\n",
       "    <tr style=\"text-align: right;\">\n",
       "      <th></th>\n",
       "      <th>id</th>\n",
       "      <th>previously_insured</th>\n",
       "      <th>annual_premium</th>\n",
       "      <th>vintage</th>\n",
       "      <th>response</th>\n",
       "    </tr>\n",
       "  </thead>\n",
       "  <tbody>\n",
       "    <tr>\n",
       "      <th>0</th>\n",
       "      <td>1</td>\n",
       "      <td>0</td>\n",
       "      <td>40454.0</td>\n",
       "      <td>217</td>\n",
       "      <td>1</td>\n",
       "    </tr>\n",
       "    <tr>\n",
       "      <th>1</th>\n",
       "      <td>2</td>\n",
       "      <td>0</td>\n",
       "      <td>33536.0</td>\n",
       "      <td>183</td>\n",
       "      <td>0</td>\n",
       "    </tr>\n",
       "    <tr>\n",
       "      <th>2</th>\n",
       "      <td>3</td>\n",
       "      <td>0</td>\n",
       "      <td>38294.0</td>\n",
       "      <td>27</td>\n",
       "      <td>1</td>\n",
       "    </tr>\n",
       "    <tr>\n",
       "      <th>3</th>\n",
       "      <td>4</td>\n",
       "      <td>1</td>\n",
       "      <td>28619.0</td>\n",
       "      <td>203</td>\n",
       "      <td>0</td>\n",
       "    </tr>\n",
       "    <tr>\n",
       "      <th>4</th>\n",
       "      <td>5</td>\n",
       "      <td>1</td>\n",
       "      <td>27496.0</td>\n",
       "      <td>39</td>\n",
       "      <td>0</td>\n",
       "    </tr>\n",
       "    <tr>\n",
       "      <th>...</th>\n",
       "      <td>...</td>\n",
       "      <td>...</td>\n",
       "      <td>...</td>\n",
       "      <td>...</td>\n",
       "      <td>...</td>\n",
       "    </tr>\n",
       "    <tr>\n",
       "      <th>381104</th>\n",
       "      <td>381105</td>\n",
       "      <td>1</td>\n",
       "      <td>30170.0</td>\n",
       "      <td>88</td>\n",
       "      <td>0</td>\n",
       "    </tr>\n",
       "    <tr>\n",
       "      <th>381105</th>\n",
       "      <td>381106</td>\n",
       "      <td>1</td>\n",
       "      <td>40016.0</td>\n",
       "      <td>131</td>\n",
       "      <td>0</td>\n",
       "    </tr>\n",
       "    <tr>\n",
       "      <th>381106</th>\n",
       "      <td>381107</td>\n",
       "      <td>1</td>\n",
       "      <td>35118.0</td>\n",
       "      <td>161</td>\n",
       "      <td>0</td>\n",
       "    </tr>\n",
       "    <tr>\n",
       "      <th>381107</th>\n",
       "      <td>381108</td>\n",
       "      <td>0</td>\n",
       "      <td>44617.0</td>\n",
       "      <td>74</td>\n",
       "      <td>0</td>\n",
       "    </tr>\n",
       "    <tr>\n",
       "      <th>381108</th>\n",
       "      <td>381109</td>\n",
       "      <td>0</td>\n",
       "      <td>41777.0</td>\n",
       "      <td>237</td>\n",
       "      <td>0</td>\n",
       "    </tr>\n",
       "  </tbody>\n",
       "</table>\n",
       "<p>381109 rows × 5 columns</p>\n",
       "</div>"
      ],
      "text/plain": [
       "            id  previously_insured  annual_premium  vintage  response\n",
       "0            1                   0         40454.0      217         1\n",
       "1            2                   0         33536.0      183         0\n",
       "2            3                   0         38294.0       27         1\n",
       "3            4                   1         28619.0      203         0\n",
       "4            5                   1         27496.0       39         0\n",
       "...        ...                 ...             ...      ...       ...\n",
       "381104  381105                   1         30170.0       88         0\n",
       "381105  381106                   1         40016.0      131         0\n",
       "381106  381107                   1         35118.0      161         0\n",
       "381107  381108                   0         44617.0       74         0\n",
       "381108  381109                   0         41777.0      237         0\n",
       "\n",
       "[381109 rows x 5 columns]"
      ]
     },
     "execution_count": 106,
     "metadata": {},
     "output_type": "execute_result"
    }
   ],
   "source": [
    "# show insurance dataset\n",
    "df_insurance"
   ]
  },
  {
   "cell_type": "code",
   "execution_count": 6,
   "metadata": {
    "ExecuteTime": {
     "end_time": "2021-01-28T01:22:34.960508Z",
     "start_time": "2021-01-28T01:22:34.735095Z"
    },
    "init_cell": true
   },
   "outputs": [],
   "source": [
    "# merge all datasets\n",
    "df_raw = pd.merge( df_users, df_vehicle, how='inner', on='id' )\n",
    "df_raw = pd.merge( df_raw, df_insurance, how='inner', on='id' )"
   ]
  },
  {
   "cell_type": "code",
   "execution_count": 191,
   "metadata": {
    "ExecuteTime": {
     "end_time": "2021-01-10T07:24:59.220148Z",
     "start_time": "2021-01-10T07:24:58.972808Z"
    }
   },
   "outputs": [],
   "source": [
    "pickle.dump(df_raw, open('data/df_raw.pkl', 'wb'))"
   ]
  },
  {
   "cell_type": "code",
   "execution_count": 7,
   "metadata": {
    "ExecuteTime": {
     "end_time": "2021-01-28T01:22:34.972145Z",
     "start_time": "2021-01-28T01:22:34.961512Z"
    },
    "init_cell": true
   },
   "outputs": [],
   "source": [
    "df_insurance = None\n",
    "df_users = None\n",
    "df_vehicle = None"
   ]
  },
  {
   "cell_type": "code",
   "execution_count": 8,
   "metadata": {
    "ExecuteTime": {
     "end_time": "2021-01-28T01:22:34.992088Z",
     "start_time": "2021-01-28T01:22:34.973462Z"
    },
    "init_cell": true
   },
   "outputs": [
    {
     "data": {
      "text/html": [
       "<div>\n",
       "<style scoped>\n",
       "    .dataframe tbody tr th:only-of-type {\n",
       "        vertical-align: middle;\n",
       "    }\n",
       "\n",
       "    .dataframe tbody tr th {\n",
       "        vertical-align: top;\n",
       "    }\n",
       "\n",
       "    .dataframe thead th {\n",
       "        text-align: right;\n",
       "    }\n",
       "</style>\n",
       "<table border=\"1\" class=\"dataframe\">\n",
       "  <thead>\n",
       "    <tr style=\"text-align: right;\">\n",
       "      <th></th>\n",
       "      <th>id</th>\n",
       "      <th>gender</th>\n",
       "      <th>age</th>\n",
       "      <th>region_code</th>\n",
       "      <th>policy_sales_channel</th>\n",
       "      <th>driving_license</th>\n",
       "      <th>vehicle_age</th>\n",
       "      <th>vehicle_damage</th>\n",
       "      <th>previously_insured</th>\n",
       "      <th>annual_premium</th>\n",
       "      <th>vintage</th>\n",
       "      <th>response</th>\n",
       "    </tr>\n",
       "  </thead>\n",
       "  <tbody>\n",
       "    <tr>\n",
       "      <th>0</th>\n",
       "      <td>1</td>\n",
       "      <td>Male</td>\n",
       "      <td>44</td>\n",
       "      <td>28.00000</td>\n",
       "      <td>26.00000</td>\n",
       "      <td>1</td>\n",
       "      <td>&gt; 2 Years</td>\n",
       "      <td>Yes</td>\n",
       "      <td>0</td>\n",
       "      <td>40454.00000</td>\n",
       "      <td>217</td>\n",
       "      <td>1</td>\n",
       "    </tr>\n",
       "    <tr>\n",
       "      <th>1</th>\n",
       "      <td>2</td>\n",
       "      <td>Male</td>\n",
       "      <td>76</td>\n",
       "      <td>3.00000</td>\n",
       "      <td>26.00000</td>\n",
       "      <td>1</td>\n",
       "      <td>1-2 Year</td>\n",
       "      <td>No</td>\n",
       "      <td>0</td>\n",
       "      <td>33536.00000</td>\n",
       "      <td>183</td>\n",
       "      <td>0</td>\n",
       "    </tr>\n",
       "    <tr>\n",
       "      <th>2</th>\n",
       "      <td>3</td>\n",
       "      <td>Male</td>\n",
       "      <td>47</td>\n",
       "      <td>28.00000</td>\n",
       "      <td>26.00000</td>\n",
       "      <td>1</td>\n",
       "      <td>&gt; 2 Years</td>\n",
       "      <td>Yes</td>\n",
       "      <td>0</td>\n",
       "      <td>38294.00000</td>\n",
       "      <td>27</td>\n",
       "      <td>1</td>\n",
       "    </tr>\n",
       "    <tr>\n",
       "      <th>3</th>\n",
       "      <td>4</td>\n",
       "      <td>Male</td>\n",
       "      <td>21</td>\n",
       "      <td>11.00000</td>\n",
       "      <td>152.00000</td>\n",
       "      <td>1</td>\n",
       "      <td>&lt; 1 Year</td>\n",
       "      <td>No</td>\n",
       "      <td>1</td>\n",
       "      <td>28619.00000</td>\n",
       "      <td>203</td>\n",
       "      <td>0</td>\n",
       "    </tr>\n",
       "    <tr>\n",
       "      <th>4</th>\n",
       "      <td>5</td>\n",
       "      <td>Female</td>\n",
       "      <td>29</td>\n",
       "      <td>41.00000</td>\n",
       "      <td>152.00000</td>\n",
       "      <td>1</td>\n",
       "      <td>&lt; 1 Year</td>\n",
       "      <td>No</td>\n",
       "      <td>1</td>\n",
       "      <td>27496.00000</td>\n",
       "      <td>39</td>\n",
       "      <td>0</td>\n",
       "    </tr>\n",
       "    <tr>\n",
       "      <th>...</th>\n",
       "      <td>...</td>\n",
       "      <td>...</td>\n",
       "      <td>...</td>\n",
       "      <td>...</td>\n",
       "      <td>...</td>\n",
       "      <td>...</td>\n",
       "      <td>...</td>\n",
       "      <td>...</td>\n",
       "      <td>...</td>\n",
       "      <td>...</td>\n",
       "      <td>...</td>\n",
       "      <td>...</td>\n",
       "    </tr>\n",
       "    <tr>\n",
       "      <th>381104</th>\n",
       "      <td>381105</td>\n",
       "      <td>Male</td>\n",
       "      <td>74</td>\n",
       "      <td>26.00000</td>\n",
       "      <td>26.00000</td>\n",
       "      <td>1</td>\n",
       "      <td>1-2 Year</td>\n",
       "      <td>No</td>\n",
       "      <td>1</td>\n",
       "      <td>30170.00000</td>\n",
       "      <td>88</td>\n",
       "      <td>0</td>\n",
       "    </tr>\n",
       "    <tr>\n",
       "      <th>381105</th>\n",
       "      <td>381106</td>\n",
       "      <td>Male</td>\n",
       "      <td>30</td>\n",
       "      <td>37.00000</td>\n",
       "      <td>152.00000</td>\n",
       "      <td>1</td>\n",
       "      <td>&lt; 1 Year</td>\n",
       "      <td>No</td>\n",
       "      <td>1</td>\n",
       "      <td>40016.00000</td>\n",
       "      <td>131</td>\n",
       "      <td>0</td>\n",
       "    </tr>\n",
       "    <tr>\n",
       "      <th>381106</th>\n",
       "      <td>381107</td>\n",
       "      <td>Male</td>\n",
       "      <td>21</td>\n",
       "      <td>30.00000</td>\n",
       "      <td>160.00000</td>\n",
       "      <td>1</td>\n",
       "      <td>&lt; 1 Year</td>\n",
       "      <td>No</td>\n",
       "      <td>1</td>\n",
       "      <td>35118.00000</td>\n",
       "      <td>161</td>\n",
       "      <td>0</td>\n",
       "    </tr>\n",
       "    <tr>\n",
       "      <th>381107</th>\n",
       "      <td>381108</td>\n",
       "      <td>Female</td>\n",
       "      <td>68</td>\n",
       "      <td>14.00000</td>\n",
       "      <td>124.00000</td>\n",
       "      <td>1</td>\n",
       "      <td>&gt; 2 Years</td>\n",
       "      <td>Yes</td>\n",
       "      <td>0</td>\n",
       "      <td>44617.00000</td>\n",
       "      <td>74</td>\n",
       "      <td>0</td>\n",
       "    </tr>\n",
       "    <tr>\n",
       "      <th>381108</th>\n",
       "      <td>381109</td>\n",
       "      <td>Male</td>\n",
       "      <td>46</td>\n",
       "      <td>29.00000</td>\n",
       "      <td>26.00000</td>\n",
       "      <td>1</td>\n",
       "      <td>1-2 Year</td>\n",
       "      <td>No</td>\n",
       "      <td>0</td>\n",
       "      <td>41777.00000</td>\n",
       "      <td>237</td>\n",
       "      <td>0</td>\n",
       "    </tr>\n",
       "  </tbody>\n",
       "</table>\n",
       "<p>381109 rows × 12 columns</p>\n",
       "</div>"
      ],
      "text/plain": [
       "            id  gender  age  region_code  policy_sales_channel  driving_license vehicle_age vehicle_damage  previously_insured  annual_premium  vintage  response\n",
       "0            1    Male   44     28.00000              26.00000                1   > 2 Years            Yes                   0     40454.00000      217         1\n",
       "1            2    Male   76      3.00000              26.00000                1    1-2 Year             No                   0     33536.00000      183         0\n",
       "2            3    Male   47     28.00000              26.00000                1   > 2 Years            Yes                   0     38294.00000       27         1\n",
       "3            4    Male   21     11.00000             152.00000                1    < 1 Year             No                   1     28619.00000      203         0\n",
       "4            5  Female   29     41.00000             152.00000                1    < 1 Year             No                   1     27496.00000       39         0\n",
       "...        ...     ...  ...          ...                   ...              ...         ...            ...                 ...             ...      ...       ...\n",
       "381104  381105    Male   74     26.00000              26.00000                1    1-2 Year             No                   1     30170.00000       88         0\n",
       "381105  381106    Male   30     37.00000             152.00000                1    < 1 Year             No                   1     40016.00000      131         0\n",
       "381106  381107    Male   21     30.00000             160.00000                1    < 1 Year             No                   1     35118.00000      161         0\n",
       "381107  381108  Female   68     14.00000             124.00000                1   > 2 Years            Yes                   0     44617.00000       74         0\n",
       "381108  381109    Male   46     29.00000              26.00000                1    1-2 Year             No                   0     41777.00000      237         0\n",
       "\n",
       "[381109 rows x 12 columns]"
      ]
     },
     "execution_count": 8,
     "metadata": {},
     "output_type": "execute_result"
    }
   ],
   "source": [
    "df_raw"
   ]
  },
  {
   "cell_type": "markdown",
   "metadata": {},
   "source": [
    "# Dataset Information\n",
    "\n",
    "#### Columns\n",
    "\n",
    "- Id: Customer ID\n",
    "- Gender: Customer Age\n",
    "- Region Code: The code of the region that customer lives\n",
    "- Policy Sales Channel: The code for the customer disclosure channel (mail, phone, agents, etc.)\n",
    "- Driving License: Customer has a license 1; customer has no license 0\n",
    "- Vehicle Age: The age of the vehicle\n",
    "- Vehicle Damage: If the vehicle has been damaged in the past, yes or no\n",
    "- Previously Insured: If the customer has a previous insurance, no: 0, yes: 1\n",
    "- Annual Premium: How much the customer paid the company for annual health insurance\n",
    "- Vintage: Number of days the customer joined the company through the purchase of health insurance.\n",
    "- Response: The customer has interest in buy the car insurance, no: 0, yes: 1\n",
    "\n",
    "#### The dataset has 381109 rows × 12 columns"
   ]
  },
  {
   "cell_type": "markdown",
   "metadata": {
    "ExecuteTime": {
     "end_time": "2021-01-09T13:38:17.613568Z",
     "start_time": "2021-01-09T13:38:17.612009Z"
    }
   },
   "source": [
    "# Dataset Analysis"
   ]
  },
  {
   "cell_type": "code",
   "execution_count": 22,
   "metadata": {
    "ExecuteTime": {
     "end_time": "2021-01-15T12:54:37.446673Z",
     "start_time": "2021-01-15T12:54:11.353931Z"
    },
    "collapsed": true
   },
   "outputs": [
    {
     "data": {
      "application/vnd.jupyter.widget-view+json": {
       "model_id": "e50a5ec7e8014b9d884f0606ee7d9341",
       "version_major": 2,
       "version_minor": 0
      },
      "text/plain": [
       "HBox(children=(HTML(value='Summarize dataset'), FloatProgress(value=0.0, max=25.0), HTML(value='')))"
      ]
     },
     "metadata": {},
     "output_type": "display_data"
    },
    {
     "name": "stdout",
     "output_type": "stream",
     "text": [
      "\n"
     ]
    },
    {
     "data": {
      "application/vnd.jupyter.widget-view+json": {
       "model_id": "bb23ef0485d24d738b1a0c314b6f4c0b",
       "version_major": 2,
       "version_minor": 0
      },
      "text/plain": [
       "HBox(children=(HTML(value='Generate report structure'), FloatProgress(value=0.0, max=1.0), HTML(value='')))"
      ]
     },
     "metadata": {},
     "output_type": "display_data"
    },
    {
     "name": "stdout",
     "output_type": "stream",
     "text": [
      "\n"
     ]
    },
    {
     "data": {
      "application/vnd.jupyter.widget-view+json": {
       "model_id": "21236721e2ef4be4951e9efa28a674c4",
       "version_major": 2,
       "version_minor": 0
      },
      "text/plain": [
       "HBox(children=(HTML(value='Render HTML'), FloatProgress(value=0.0, max=1.0), HTML(value='')))"
      ]
     },
     "metadata": {},
     "output_type": "display_data"
    },
    {
     "name": "stdout",
     "output_type": "stream",
     "text": [
      "\n"
     ]
    },
    {
     "data": {
      "application/vnd.jupyter.widget-view+json": {
       "model_id": "ac38115641af4788815f3560f2cbb240",
       "version_major": 2,
       "version_minor": 0
      },
      "text/plain": [
       "HBox(children=(HTML(value='Export report to file'), FloatProgress(value=0.0, max=1.0), HTML(value='')))"
      ]
     },
     "metadata": {},
     "output_type": "display_data"
    },
    {
     "name": "stdout",
     "output_type": "stream",
     "text": [
      "\n"
     ]
    }
   ],
   "source": [
    "profile = ProfileReport(df_raw, title='Insurance_All')\n",
    "profile.to_file(output_file='Insurance_All')"
   ]
  },
  {
   "cell_type": "markdown",
   "metadata": {},
   "source": [
    "### According to Pandas Profile Report it can be highlighted the following Key Points:\n",
    "\n",
    "#### - The data set has no missing cells or duplicate rows.\n",
    "#### - There are more men (54.1%) than women (45.9%)\n",
    "#### - The age ranges from 20 to 85 years. The average age is 38 years and the distribution is positively skewed (0.67). There is a peak at the ages of 23 and 24, both representing 13.2% of all ages.\n",
    "#### - The most common region code is 28, representing 27.9% of all 53 codes.\n",
    "#### - The most common policy sales channel are 152 (35.4%), 26 (20.9%) and 124 (19.4%).\n",
    "#### - Most customers have a driver's license (99.8%)\n",
    "#### - Most vehicles are between 1 and 2 years old (52.6%), followed by vehicles under 1 year old (43.2%) and over 2 years old (4.2%)\n",
    "#### - Most vehicles were damaged (50.5%)\n",
    "#### - Most customers have already been assured (54.2%)\n",
    "#### - The average of annual premium is 30564, in addition to a minimum of 2630 and a maximum of 540165. The distribution is highly skewed (1.76) and has a kurtosis of 34, which implies that there are many outliers and data is concentrated at the beginning of the curve.\n",
    "#### - The target variable (response) is quite unbalanced, since 87.7% of customers answered \"no\" to a new auto insurance proposal."
   ]
  },
  {
   "cell_type": "markdown",
   "metadata": {},
   "source": [
    "# Encoding"
   ]
  },
  {
   "cell_type": "code",
   "execution_count": 24,
   "metadata": {
    "ExecuteTime": {
     "end_time": "2021-01-15T15:36:57.243553Z",
     "start_time": "2021-01-15T15:36:57.223385Z"
    }
   },
   "outputs": [],
   "source": [
    "df1 = pickle.load(open('data/df_raw.pkl', 'rb'))"
   ]
  },
  {
   "cell_type": "code",
   "execution_count": 25,
   "metadata": {
    "ExecuteTime": {
     "end_time": "2021-01-15T15:36:58.291739Z",
     "start_time": "2021-01-15T15:36:58.015687Z"
    }
   },
   "outputs": [],
   "source": [
    "# label enconding\n",
    "df1[\"gender\"] = df1[\"gender\"].apply(lambda x: 0 if x == 'Male' else 1).astype(int)\n",
    "df1[\"vehicle_damage\"] = df1[\"vehicle_damage\"].apply(lambda x: 0 if x == 'No' else 1).astype(int)\n",
    "\n",
    "# ordinal enconding\n",
    "df1[\"vehicle_age\"] = df1[\"vehicle_age\"].apply(lambda x: 0 if x == '< 1 Year' else 1 if x == '1-2 Year' else 2).astype(int)"
   ]
  },
  {
   "cell_type": "code",
   "execution_count": 26,
   "metadata": {
    "ExecuteTime": {
     "end_time": "2021-01-15T15:36:59.125068Z",
     "start_time": "2021-01-15T15:36:59.115580Z"
    },
    "hide_input": false
   },
   "outputs": [
    {
     "data": {
      "text/html": [
       "<div>\n",
       "<style scoped>\n",
       "    .dataframe tbody tr th:only-of-type {\n",
       "        vertical-align: middle;\n",
       "    }\n",
       "\n",
       "    .dataframe tbody tr th {\n",
       "        vertical-align: top;\n",
       "    }\n",
       "\n",
       "    .dataframe thead th {\n",
       "        text-align: right;\n",
       "    }\n",
       "</style>\n",
       "<table border=\"1\" class=\"dataframe\">\n",
       "  <thead>\n",
       "    <tr style=\"text-align: right;\">\n",
       "      <th></th>\n",
       "      <th>id</th>\n",
       "      <th>gender</th>\n",
       "      <th>age</th>\n",
       "      <th>region_code</th>\n",
       "      <th>policy_sales_channel</th>\n",
       "      <th>driving_license</th>\n",
       "      <th>vehicle_age</th>\n",
       "      <th>vehicle_damage</th>\n",
       "      <th>previously_insured</th>\n",
       "      <th>annual_premium</th>\n",
       "      <th>vintage</th>\n",
       "      <th>response</th>\n",
       "    </tr>\n",
       "  </thead>\n",
       "  <tbody>\n",
       "    <tr>\n",
       "      <th>0</th>\n",
       "      <td>1</td>\n",
       "      <td>1</td>\n",
       "      <td>44</td>\n",
       "      <td>28.00000</td>\n",
       "      <td>26.00000</td>\n",
       "      <td>1</td>\n",
       "      <td>2</td>\n",
       "      <td>1</td>\n",
       "      <td>0</td>\n",
       "      <td>40454.00000</td>\n",
       "      <td>217</td>\n",
       "      <td>1</td>\n",
       "    </tr>\n",
       "    <tr>\n",
       "      <th>1</th>\n",
       "      <td>2</td>\n",
       "      <td>1</td>\n",
       "      <td>76</td>\n",
       "      <td>3.00000</td>\n",
       "      <td>26.00000</td>\n",
       "      <td>1</td>\n",
       "      <td>2</td>\n",
       "      <td>1</td>\n",
       "      <td>0</td>\n",
       "      <td>33536.00000</td>\n",
       "      <td>183</td>\n",
       "      <td>0</td>\n",
       "    </tr>\n",
       "    <tr>\n",
       "      <th>2</th>\n",
       "      <td>3</td>\n",
       "      <td>1</td>\n",
       "      <td>47</td>\n",
       "      <td>28.00000</td>\n",
       "      <td>26.00000</td>\n",
       "      <td>1</td>\n",
       "      <td>2</td>\n",
       "      <td>1</td>\n",
       "      <td>0</td>\n",
       "      <td>38294.00000</td>\n",
       "      <td>27</td>\n",
       "      <td>1</td>\n",
       "    </tr>\n",
       "    <tr>\n",
       "      <th>3</th>\n",
       "      <td>4</td>\n",
       "      <td>1</td>\n",
       "      <td>21</td>\n",
       "      <td>11.00000</td>\n",
       "      <td>152.00000</td>\n",
       "      <td>1</td>\n",
       "      <td>2</td>\n",
       "      <td>1</td>\n",
       "      <td>1</td>\n",
       "      <td>28619.00000</td>\n",
       "      <td>203</td>\n",
       "      <td>0</td>\n",
       "    </tr>\n",
       "    <tr>\n",
       "      <th>4</th>\n",
       "      <td>5</td>\n",
       "      <td>1</td>\n",
       "      <td>29</td>\n",
       "      <td>41.00000</td>\n",
       "      <td>152.00000</td>\n",
       "      <td>1</td>\n",
       "      <td>2</td>\n",
       "      <td>1</td>\n",
       "      <td>1</td>\n",
       "      <td>27496.00000</td>\n",
       "      <td>39</td>\n",
       "      <td>0</td>\n",
       "    </tr>\n",
       "  </tbody>\n",
       "</table>\n",
       "</div>"
      ],
      "text/plain": [
       "   id  gender  age  region_code  policy_sales_channel  driving_license  vehicle_age  vehicle_damage  previously_insured  annual_premium  vintage  response\n",
       "0   1       1   44     28.00000              26.00000                1            2               1                   0     40454.00000      217         1\n",
       "1   2       1   76      3.00000              26.00000                1            2               1                   0     33536.00000      183         0\n",
       "2   3       1   47     28.00000              26.00000                1            2               1                   0     38294.00000       27         1\n",
       "3   4       1   21     11.00000             152.00000                1            2               1                   1     28619.00000      203         0\n",
       "4   5       1   29     41.00000             152.00000                1            2               1                   1     27496.00000       39         0"
      ]
     },
     "execution_count": 26,
     "metadata": {},
     "output_type": "execute_result"
    }
   ],
   "source": [
    "df1.head()"
   ]
  },
  {
   "cell_type": "code",
   "execution_count": 33,
   "metadata": {
    "ExecuteTime": {
     "end_time": "2021-01-15T15:38:41.322964Z",
     "start_time": "2021-01-15T15:38:41.286118Z"
    }
   },
   "outputs": [],
   "source": [
    "# save dataset\n",
    "pickle.dump( df1, open( 'data/df1.pkl', 'wb' ) )"
   ]
  },
  {
   "cell_type": "markdown",
   "metadata": {},
   "source": [
    "#  Boruta Feature Selection"
   ]
  },
  {
   "cell_type": "code",
   "execution_count": 34,
   "metadata": {
    "ExecuteTime": {
     "end_time": "2021-01-15T15:38:42.538363Z",
     "start_time": "2021-01-15T15:38:42.529960Z"
    }
   },
   "outputs": [],
   "source": [
    "# load dataset\n",
    "df2 = pickle.load( open( 'data/df1.pkl', 'rb' ) )"
   ]
  },
  {
   "cell_type": "code",
   "execution_count": 199,
   "metadata": {
    "ExecuteTime": {
     "end_time": "2021-01-10T07:26:47.985627Z",
     "start_time": "2021-01-10T07:26:47.967298Z"
    }
   },
   "outputs": [],
   "source": [
    "# split into x and y\n",
    "x = df_raw.drop(['id', 'response'], axis=1).copy()\n",
    "y = df_raw['response'].copy()"
   ]
  },
  {
   "cell_type": "code",
   "execution_count": 200,
   "metadata": {
    "ExecuteTime": {
     "end_time": "2021-01-10T07:26:48.755564Z",
     "start_time": "2021-01-10T07:26:48.752133Z"
    }
   },
   "outputs": [],
   "source": [
    "# Using Classifiers with all CPU cores\n",
    "rf = RandomForestClassifier(n_jobs=-1)\n",
    "extra = ExtraTreesClassifier(n_jobs=-1)\n",
    "xgb = XGBClassifier(random_state=28)\n",
    "brfc = BalancedRandomForestClassifier(random_state=28)"
   ]
  },
  {
   "cell_type": "markdown",
   "metadata": {},
   "source": [
    "## Boruta using Random Forest Regressor"
   ]
  },
  {
   "cell_type": "code",
   "execution_count": 201,
   "metadata": {
    "ExecuteTime": {
     "end_time": "2021-01-10T07:29:08.424433Z",
     "start_time": "2021-01-10T07:26:50.732380Z"
    },
    "scrolled": true
   },
   "outputs": [
    {
     "data": {
      "text/plain": [
       "[]"
      ]
     },
     "execution_count": 201,
     "metadata": {},
     "output_type": "execute_result"
    }
   ],
   "source": [
    "# Boruta using Random Forest Regressor\n",
    "boruta = BorutaPy(rf, n_estimators='auto', verbose=False, random_state=28).fit(x.values, y.values.ravel())\n",
    "\n",
    "# Columns Selected by Boruta using Random Forest Regressor\n",
    "cols_selected = boruta.support_.tolist()\n",
    "cols_selected_boruta = x.iloc[:, cols_selected].columns.to_list()\n",
    "cols_selected_boruta"
   ]
  },
  {
   "cell_type": "markdown",
   "metadata": {},
   "source": [
    "## Boruta using Extra Trees Classifier"
   ]
  },
  {
   "cell_type": "code",
   "execution_count": 202,
   "metadata": {
    "ExecuteTime": {
     "end_time": "2021-01-10T07:32:42.347150Z",
     "start_time": "2021-01-10T07:29:08.495488Z"
    }
   },
   "outputs": [
    {
     "data": {
      "text/plain": [
       "['age']"
      ]
     },
     "execution_count": 202,
     "metadata": {},
     "output_type": "execute_result"
    }
   ],
   "source": [
    "# Boruta using Extra Trees Classifier\n",
    "boruta = BorutaPy(extra, n_estimators='auto', verbose=False, random_state=28).fit(x.values, y.values.ravel())\n",
    "\n",
    "# Columns Selected by Boruta using Random Forest Regressor\n",
    "cols_selected = boruta.support_.tolist()\n",
    "cols_selected_boruta = x.iloc[:, cols_selected].columns.to_list()\n",
    "cols_selected_boruta"
   ]
  },
  {
   "cell_type": "markdown",
   "metadata": {},
   "source": [
    "## Boruta using XGBoost Classifier"
   ]
  },
  {
   "cell_type": "code",
   "execution_count": 203,
   "metadata": {
    "ExecuteTime": {
     "end_time": "2021-01-10T07:35:22.698805Z",
     "start_time": "2021-01-10T07:32:42.416651Z"
    }
   },
   "outputs": [
    {
     "name": "stdout",
     "output_type": "stream",
     "text": [
      "[04:32:42] WARNING: ../src/learner.cc:1061: Starting in XGBoost 1.3.0, the default evaluation metric used with the objective 'binary:logistic' was changed from 'error' to 'logloss'. Explicitly set eval_metric if you'd like to restore the old behavior.\n",
      "[04:32:47] WARNING: ../src/learner.cc:1061: Starting in XGBoost 1.3.0, the default evaluation metric used with the objective 'binary:logistic' was changed from 'error' to 'logloss'. Explicitly set eval_metric if you'd like to restore the old behavior.\n",
      "[04:32:55] WARNING: ../src/learner.cc:1061: Starting in XGBoost 1.3.0, the default evaluation metric used with the objective 'binary:logistic' was changed from 'error' to 'logloss'. Explicitly set eval_metric if you'd like to restore the old behavior.\n",
      "[04:33:03] WARNING: ../src/learner.cc:1061: Starting in XGBoost 1.3.0, the default evaluation metric used with the objective 'binary:logistic' was changed from 'error' to 'logloss'. Explicitly set eval_metric if you'd like to restore the old behavior.\n",
      "[04:33:10] WARNING: ../src/learner.cc:1061: Starting in XGBoost 1.3.0, the default evaluation metric used with the objective 'binary:logistic' was changed from 'error' to 'logloss'. Explicitly set eval_metric if you'd like to restore the old behavior.\n",
      "[04:33:19] WARNING: ../src/learner.cc:1061: Starting in XGBoost 1.3.0, the default evaluation metric used with the objective 'binary:logistic' was changed from 'error' to 'logloss'. Explicitly set eval_metric if you'd like to restore the old behavior.\n",
      "[04:33:29] WARNING: ../src/learner.cc:1061: Starting in XGBoost 1.3.0, the default evaluation metric used with the objective 'binary:logistic' was changed from 'error' to 'logloss'. Explicitly set eval_metric if you'd like to restore the old behavior.\n",
      "[04:33:37] WARNING: ../src/learner.cc:1061: Starting in XGBoost 1.3.0, the default evaluation metric used with the objective 'binary:logistic' was changed from 'error' to 'logloss'. Explicitly set eval_metric if you'd like to restore the old behavior.\n",
      "[04:33:44] WARNING: ../src/learner.cc:1061: Starting in XGBoost 1.3.0, the default evaluation metric used with the objective 'binary:logistic' was changed from 'error' to 'logloss'. Explicitly set eval_metric if you'd like to restore the old behavior.\n",
      "[04:33:51] WARNING: ../src/learner.cc:1061: Starting in XGBoost 1.3.0, the default evaluation metric used with the objective 'binary:logistic' was changed from 'error' to 'logloss'. Explicitly set eval_metric if you'd like to restore the old behavior.\n",
      "[04:33:59] WARNING: ../src/learner.cc:1061: Starting in XGBoost 1.3.0, the default evaluation metric used with the objective 'binary:logistic' was changed from 'error' to 'logloss'. Explicitly set eval_metric if you'd like to restore the old behavior.\n",
      "[04:34:06] WARNING: ../src/learner.cc:1061: Starting in XGBoost 1.3.0, the default evaluation metric used with the objective 'binary:logistic' was changed from 'error' to 'logloss'. Explicitly set eval_metric if you'd like to restore the old behavior.\n",
      "[04:34:13] WARNING: ../src/learner.cc:1061: Starting in XGBoost 1.3.0, the default evaluation metric used with the objective 'binary:logistic' was changed from 'error' to 'logloss'. Explicitly set eval_metric if you'd like to restore the old behavior.\n",
      "[04:34:20] WARNING: ../src/learner.cc:1061: Starting in XGBoost 1.3.0, the default evaluation metric used with the objective 'binary:logistic' was changed from 'error' to 'logloss'. Explicitly set eval_metric if you'd like to restore the old behavior.\n",
      "[04:34:26] WARNING: ../src/learner.cc:1061: Starting in XGBoost 1.3.0, the default evaluation metric used with the objective 'binary:logistic' was changed from 'error' to 'logloss'. Explicitly set eval_metric if you'd like to restore the old behavior.\n",
      "[04:34:33] WARNING: ../src/learner.cc:1061: Starting in XGBoost 1.3.0, the default evaluation metric used with the objective 'binary:logistic' was changed from 'error' to 'logloss'. Explicitly set eval_metric if you'd like to restore the old behavior.\n",
      "[04:34:40] WARNING: ../src/learner.cc:1061: Starting in XGBoost 1.3.0, the default evaluation metric used with the objective 'binary:logistic' was changed from 'error' to 'logloss'. Explicitly set eval_metric if you'd like to restore the old behavior.\n",
      "[04:34:47] WARNING: ../src/learner.cc:1061: Starting in XGBoost 1.3.0, the default evaluation metric used with the objective 'binary:logistic' was changed from 'error' to 'logloss'. Explicitly set eval_metric if you'd like to restore the old behavior.\n",
      "[04:34:53] WARNING: ../src/learner.cc:1061: Starting in XGBoost 1.3.0, the default evaluation metric used with the objective 'binary:logistic' was changed from 'error' to 'logloss'. Explicitly set eval_metric if you'd like to restore the old behavior.\n",
      "[04:35:01] WARNING: ../src/learner.cc:1061: Starting in XGBoost 1.3.0, the default evaluation metric used with the objective 'binary:logistic' was changed from 'error' to 'logloss'. Explicitly set eval_metric if you'd like to restore the old behavior.\n",
      "[04:35:08] WARNING: ../src/learner.cc:1061: Starting in XGBoost 1.3.0, the default evaluation metric used with the objective 'binary:logistic' was changed from 'error' to 'logloss'. Explicitly set eval_metric if you'd like to restore the old behavior.\n",
      "[04:35:15] WARNING: ../src/learner.cc:1061: Starting in XGBoost 1.3.0, the default evaluation metric used with the objective 'binary:logistic' was changed from 'error' to 'logloss'. Explicitly set eval_metric if you'd like to restore the old behavior.\n"
     ]
    },
    {
     "data": {
      "text/plain": [
       "['gender',\n",
       " 'age',\n",
       " 'region_code',\n",
       " 'policy_sales_channel',\n",
       " 'driving_license',\n",
       " 'vehicle_age',\n",
       " 'vehicle_damage',\n",
       " 'previously_insured',\n",
       " 'annual_premium']"
      ]
     },
     "execution_count": 203,
     "metadata": {},
     "output_type": "execute_result"
    }
   ],
   "source": [
    "# Boruta using XGBoost Classifier\n",
    "boruta = BorutaPy(xgb, n_estimators='auto', verbose=False, random_state=28).fit(x.values, y.values.ravel())\n",
    "\n",
    "# Columns Selected by Boruta using Random Forest Regressor\n",
    "cols_selected = boruta.support_.tolist()\n",
    "cols_selected_boruta = x.iloc[:, cols_selected].columns.to_list()\n",
    "cols_selected_boruta"
   ]
  },
  {
   "cell_type": "markdown",
   "metadata": {},
   "source": [
    "## Boruta using Balanced Random Forest Classifier"
   ]
  },
  {
   "cell_type": "code",
   "execution_count": 204,
   "metadata": {
    "ExecuteTime": {
     "end_time": "2021-01-10T07:43:32.687867Z",
     "start_time": "2021-01-10T07:35:22.810217Z"
    },
    "scrolled": true
   },
   "outputs": [
    {
     "data": {
      "text/plain": [
       "['age', 'vehicle_damage', 'previously_insured']"
      ]
     },
     "execution_count": 204,
     "metadata": {},
     "output_type": "execute_result"
    }
   ],
   "source": [
    "# Boruta using Balanced Random Forest Classifier\n",
    "boruta = BorutaPy(brfc, n_estimators='auto', verbose=False, random_state=28).fit(x.values, y.values.ravel())\n",
    "\n",
    "# Columns Selected by Boruta using Random Forest Regressor\n",
    "cols_selected = boruta.support_.tolist()\n",
    "cols_selected_boruta = x.iloc[:, cols_selected].columns.to_list()\n",
    "cols_selected_boruta"
   ]
  },
  {
   "cell_type": "markdown",
   "metadata": {},
   "source": [
    "### Based on the analysis of the correlations of all variables observed in the Pandas Profile Report, Boruta's results using the Balanced Random Forest Classifier are the most consistent."
   ]
  },
  {
   "cell_type": "markdown",
   "metadata": {},
   "source": [
    "# Split into train (70%), validation (10%) and test (20%)"
   ]
  },
  {
   "cell_type": "code",
   "execution_count": 205,
   "metadata": {
    "ExecuteTime": {
     "end_time": "2021-01-10T07:44:49.678188Z",
     "start_time": "2021-01-10T07:44:49.668497Z"
    }
   },
   "outputs": [],
   "source": [
    "# load dataset\n",
    "df_raw = pickle.load(open('data/df_raw.pkl', 'rb'))"
   ]
  },
  {
   "cell_type": "code",
   "execution_count": 206,
   "metadata": {
    "ExecuteTime": {
     "end_time": "2021-01-10T07:43:32.865643Z",
     "start_time": "2021-01-10T07:43:32.840878Z"
    }
   },
   "outputs": [],
   "source": [
    "# split into x and y\n",
    "x = df_raw.drop(['id', 'response'], axis=1).copy()\n",
    "y = df_raw['response'].copy()"
   ]
  },
  {
   "cell_type": "code",
   "execution_count": 207,
   "metadata": {
    "ExecuteTime": {
     "end_time": "2021-01-10T07:43:33.067187Z",
     "start_time": "2021-01-10T07:43:32.929725Z"
    }
   },
   "outputs": [
    {
     "name": "stdout",
     "output_type": "stream",
     "text": [
      "y_train size: [240862  33536]\n",
      "y_test size: [66880  9342]\n",
      "y_valid size: [26657  3832]\n"
     ]
    }
   ],
   "source": [
    "# train test split\n",
    "x_train, x_test, y_train, y_test = train_test_split(x, y, test_size=0.20, random_state=28, stratify=y)\n",
    "\n",
    "# train valid split\n",
    "x_train, x_valid, y_train, y_valid = train_test_split(x_train, y_train, test_size=0.10, random_state=28)\n",
    "\n",
    "# check balance of classes (0, 1) among y_train, y_test and y_valid\n",
    "print(f\"y_train size: {np.bincount(y_train)}\")\n",
    "print(f\"y_test size: {np.bincount(y_test)}\")\n",
    "print(f\"y_valid size: {np.bincount(y_valid)}\")"
   ]
  },
  {
   "cell_type": "code",
   "execution_count": 208,
   "metadata": {
    "ExecuteTime": {
     "end_time": "2021-01-10T07:43:33.136548Z",
     "start_time": "2021-01-10T07:43:33.133957Z"
    }
   },
   "outputs": [
    {
     "name": "stdout",
     "output_type": "stream",
     "text": [
      "(274398, 10)\n",
      "(30489, 10)\n",
      "(76222, 10)\n",
      "(274398,)\n",
      "(30489,)\n",
      "(76222,)\n"
     ]
    }
   ],
   "source": [
    "# shape of trains, tests and valids\n",
    "print(x_train.shape)\n",
    "print(x_valid.shape)\n",
    "print(x_test.shape)\n",
    "print(y_train.shape)\n",
    "print(y_valid.shape)\n",
    "print(y_test.shape)"
   ]
  },
  {
   "cell_type": "code",
   "execution_count": 209,
   "metadata": {
    "ExecuteTime": {
     "end_time": "2021-01-10T07:43:33.336136Z",
     "start_time": "2021-01-10T07:43:33.206585Z"
    }
   },
   "outputs": [],
   "source": [
    "# saving all data\n",
    "pickle.dump(x_train, open('data/x_train.pkl', 'wb'))\n",
    "pickle.dump(x_test, open('data/x_test.pkl', 'wb'))\n",
    "pickle.dump(x_valid, open('data/x_valid.pkl', 'wb'))\n",
    "\n",
    "pickle.dump(y_train, open('data/y_train.pkl', 'wb'))\n",
    "pickle.dump(y_test, open('data/y_test.pkl', 'wb'))\n",
    "pickle.dump(y_valid, open('data/y_valid.pkl', 'wb'))\n",
    "\n",
    "pickle.dump(x, open('data/x.pkl', 'wb'))\n",
    "pickle.dump(y, open('data/y.pkl', 'wb'))"
   ]
  },
  {
   "cell_type": "markdown",
   "metadata": {},
   "source": [
    "# Machine Learning"
   ]
  },
  {
   "cell_type": "code",
   "execution_count": 210,
   "metadata": {
    "ExecuteTime": {
     "end_time": "2021-01-10T07:43:33.410170Z",
     "start_time": "2021-01-10T07:43:33.399728Z"
    }
   },
   "outputs": [],
   "source": [
    "# load all data\n",
    "x_train = pickle.load(open('data/x_train.pkl', 'rb'))\n",
    "x_valid = pickle.load(open('data/x_valid.pkl', 'rb'))\n",
    "x_test = pickle.load(open('data/x_test.pkl', 'rb'))\n",
    "y_train = pickle.load(open('data/y_train.pkl', 'rb'))\n",
    "y_valid = pickle.load(open('data/y_valid.pkl', 'rb'))\n",
    "y_test = pickle.load(open('data/y_test.pkl', 'rb'))"
   ]
  },
  {
   "cell_type": "code",
   "execution_count": 211,
   "metadata": {
    "ExecuteTime": {
     "end_time": "2021-01-10T07:44:49.586699Z",
     "start_time": "2021-01-10T07:43:33.477393Z"
    }
   },
   "outputs": [
    {
     "name": "stdout",
     "output_type": "stream",
     "text": [
      "Training CatBoostClassifier...\n",
      "Training XGBClassifier...\n",
      "[04:43:54] WARNING: ../src/learner.cc:1061: Starting in XGBoost 1.3.0, the default evaluation metric used with the objective 'binary:logistic' was changed from 'error' to 'logloss'. Explicitly set eval_metric if you'd like to restore the old behavior.\n",
      "Training LGBMClassifier...\n",
      "Training LogisticRegression...\n",
      "Training RandomForestClassifier...\n",
      "Training BalancedRandomForestClassifier...\n",
      "Training KNeighborsClassifier...\n",
      "Training SGDClassifier...\n",
      "Training GaussianNB...\n"
     ]
    },
    {
     "data": {
      "text/html": [
       "<div>\n",
       "<style scoped>\n",
       "    .dataframe tbody tr th:only-of-type {\n",
       "        vertical-align: middle;\n",
       "    }\n",
       "\n",
       "    .dataframe tbody tr th {\n",
       "        vertical-align: top;\n",
       "    }\n",
       "\n",
       "    .dataframe thead th {\n",
       "        text-align: right;\n",
       "    }\n",
       "</style>\n",
       "<table border=\"1\" class=\"dataframe\">\n",
       "  <thead>\n",
       "    <tr style=\"text-align: right;\">\n",
       "      <th></th>\n",
       "      <th>Model Name</th>\n",
       "      <th>Accuracy</th>\n",
       "      <th>Bal Accuracy</th>\n",
       "      <th>Precision</th>\n",
       "      <th>Recall</th>\n",
       "      <th>F1-Score</th>\n",
       "      <th>ROC-AUC</th>\n",
       "      <th>Kappa</th>\n",
       "      <th>Brier</th>\n",
       "    </tr>\n",
       "  </thead>\n",
       "  <tbody>\n",
       "    <tr>\n",
       "      <th>0</th>\n",
       "      <td>BalancedRandomForestClassifier</td>\n",
       "      <td>0.70573</td>\n",
       "      <td>0.79496</td>\n",
       "      <td>0.28841</td>\n",
       "      <td>0.91414</td>\n",
       "      <td>0.43848</td>\n",
       "      <td>0.79496</td>\n",
       "      <td>0.30583</td>\n",
       "      <td>0.29427</td>\n",
       "    </tr>\n",
       "    <tr>\n",
       "      <th>0</th>\n",
       "      <td>GaussianNB</td>\n",
       "      <td>0.81915</td>\n",
       "      <td>0.62118</td>\n",
       "      <td>0.30956</td>\n",
       "      <td>0.35673</td>\n",
       "      <td>0.33147</td>\n",
       "      <td>0.62118</td>\n",
       "      <td>0.22751</td>\n",
       "      <td>0.18085</td>\n",
       "    </tr>\n",
       "    <tr>\n",
       "      <th>0</th>\n",
       "      <td>RandomForestClassifier</td>\n",
       "      <td>0.86379</td>\n",
       "      <td>0.55185</td>\n",
       "      <td>0.38172</td>\n",
       "      <td>0.13518</td>\n",
       "      <td>0.19965</td>\n",
       "      <td>0.55185</td>\n",
       "      <td>0.14334</td>\n",
       "      <td>0.13621</td>\n",
       "    </tr>\n",
       "    <tr>\n",
       "      <th>0</th>\n",
       "      <td>KNeighborsClassifier</td>\n",
       "      <td>0.85231</td>\n",
       "      <td>0.51948</td>\n",
       "      <td>0.23052</td>\n",
       "      <td>0.07490</td>\n",
       "      <td>0.11306</td>\n",
       "      <td>0.51948</td>\n",
       "      <td>0.05479</td>\n",
       "      <td>0.14769</td>\n",
       "    </tr>\n",
       "    <tr>\n",
       "      <th>0</th>\n",
       "      <td>LogisticRegression</td>\n",
       "      <td>0.87110</td>\n",
       "      <td>0.51984</td>\n",
       "      <td>0.39918</td>\n",
       "      <td>0.05063</td>\n",
       "      <td>0.08986</td>\n",
       "      <td>0.51984</td>\n",
       "      <td>0.06336</td>\n",
       "      <td>0.12890</td>\n",
       "    </tr>\n",
       "    <tr>\n",
       "      <th>0</th>\n",
       "      <td>CatBoostClassifier</td>\n",
       "      <td>0.87363</td>\n",
       "      <td>0.51514</td>\n",
       "      <td>0.46488</td>\n",
       "      <td>0.03627</td>\n",
       "      <td>0.06730</td>\n",
       "      <td>0.51514</td>\n",
       "      <td>0.05001</td>\n",
       "      <td>0.12637</td>\n",
       "    </tr>\n",
       "    <tr>\n",
       "      <th>0</th>\n",
       "      <td>XGBClassifier</td>\n",
       "      <td>0.87330</td>\n",
       "      <td>0.51014</td>\n",
       "      <td>0.43049</td>\n",
       "      <td>0.02505</td>\n",
       "      <td>0.04735</td>\n",
       "      <td>0.51014</td>\n",
       "      <td>0.03400</td>\n",
       "      <td>0.12670</td>\n",
       "    </tr>\n",
       "    <tr>\n",
       "      <th>0</th>\n",
       "      <td>LGBMClassifier</td>\n",
       "      <td>0.87372</td>\n",
       "      <td>0.50056</td>\n",
       "      <td>0.23529</td>\n",
       "      <td>0.00209</td>\n",
       "      <td>0.00414</td>\n",
       "      <td>0.50056</td>\n",
       "      <td>0.00193</td>\n",
       "      <td>0.12628</td>\n",
       "    </tr>\n",
       "    <tr>\n",
       "      <th>0</th>\n",
       "      <td>SGDClassifier</td>\n",
       "      <td>0.87179</td>\n",
       "      <td>0.49900</td>\n",
       "      <td>0.04706</td>\n",
       "      <td>0.00104</td>\n",
       "      <td>0.00204</td>\n",
       "      <td>0.49900</td>\n",
       "      <td>-0.00343</td>\n",
       "      <td>0.12821</td>\n",
       "    </tr>\n",
       "  </tbody>\n",
       "</table>\n",
       "</div>"
      ],
      "text/plain": [
       "                       Model Name  Accuracy  Bal Accuracy  Precision  Recall  F1-Score  ROC-AUC    Kappa   Brier\n",
       "0  BalancedRandomForestClassifier   0.70573       0.79496    0.28841 0.91414   0.43848  0.79496  0.30583 0.29427\n",
       "0                      GaussianNB   0.81915       0.62118    0.30956 0.35673   0.33147  0.62118  0.22751 0.18085\n",
       "0          RandomForestClassifier   0.86379       0.55185    0.38172 0.13518   0.19965  0.55185  0.14334 0.13621\n",
       "0            KNeighborsClassifier   0.85231       0.51948    0.23052 0.07490   0.11306  0.51948  0.05479 0.14769\n",
       "0              LogisticRegression   0.87110       0.51984    0.39918 0.05063   0.08986  0.51984  0.06336 0.12890\n",
       "0              CatBoostClassifier   0.87363       0.51514    0.46488 0.03627   0.06730  0.51514  0.05001 0.12637\n",
       "0                   XGBClassifier   0.87330       0.51014    0.43049 0.02505   0.04735  0.51014  0.03400 0.12670\n",
       "0                  LGBMClassifier   0.87372       0.50056    0.23529 0.00209   0.00414  0.50056  0.00193 0.12628\n",
       "0                   SGDClassifier   0.87179       0.49900    0.04706 0.00104   0.00204  0.49900 -0.00343 0.12821"
      ]
     },
     "execution_count": 211,
     "metadata": {},
     "output_type": "execute_result"
    }
   ],
   "source": [
    "# algorithms\n",
    "models = [CatBoostClassifier(random_state=28, verbose=False),\n",
    "          XGBClassifier(random_state=28),\n",
    "          LGBMClassifier(random_state=28, n_jobs=-1),\n",
    "          LogistcRegression(max_iter=220, random_state=28),\n",
    "          RandomForestClassifier(random_state=28),\n",
    "          BalancedRandomForestClassifier(random_state=28),\n",
    "          KNeighborsClassifier(n_neighbors=5,  weights='distance',n_jobs=-1),\n",
    "          SGDClassifier(loss='log', random_state=28, n_jobs=-1), \n",
    "          GaussianNB()]\n",
    "\n",
    "ml_performance(models, x_train, y_train, x_valid, y_valid, 0.50)"
   ]
  },
  {
   "cell_type": "markdown",
   "metadata": {
    "ExecuteTime": {
     "end_time": "2021-01-10T05:48:49.541870Z",
     "start_time": "2021-01-10T05:48:49.503485Z"
    }
   },
   "source": [
    "## Test with columns from feature selection"
   ]
  },
  {
   "cell_type": "code",
   "execution_count": 212,
   "metadata": {
    "ExecuteTime": {
     "end_time": "2021-01-10T07:44:49.678188Z",
     "start_time": "2021-01-10T07:44:49.668497Z"
    }
   },
   "outputs": [],
   "source": [
    "# load dataset\n",
    "df_raw = pickle.load( open( 'data/df_raw.pkl', 'rb' ) )"
   ]
  },
  {
   "cell_type": "code",
   "execution_count": 213,
   "metadata": {
    "ExecuteTime": {
     "end_time": "2021-01-10T07:44:49.755491Z",
     "start_time": "2021-01-10T07:44:49.741206Z"
    }
   },
   "outputs": [],
   "source": [
    "# split into x and y\n",
    "x = df_raw[['age', 'vehicle_damage', 'previously_insured']]\n",
    "y = df_raw['response']"
   ]
  },
  {
   "cell_type": "code",
   "execution_count": 214,
   "metadata": {
    "ExecuteTime": {
     "end_time": "2021-01-10T07:44:49.931331Z",
     "start_time": "2021-01-10T07:44:49.813922Z"
    }
   },
   "outputs": [],
   "source": [
    "# train test split\n",
    "x_train, x_test, y_train, y_test = train_test_split(x, y, test_size=0.20, random_state=28, stratify=y)\n",
    "\n",
    "# train valid split\n",
    "x_train, x_valid, y_train, y_valid = train_test_split(x_train, y_train, test_size=0.10, random_state=28)"
   ]
  },
  {
   "cell_type": "code",
   "execution_count": 215,
   "metadata": {
    "ExecuteTime": {
     "end_time": "2021-01-10T07:45:25.969969Z",
     "start_time": "2021-01-10T07:44:49.980288Z"
    }
   },
   "outputs": [
    {
     "name": "stdout",
     "output_type": "stream",
     "text": [
      "Training CatBoostClassifier...\n",
      "Training XGBClassifier...\n",
      "[04:45:06] WARNING: ../src/learner.cc:1061: Starting in XGBoost 1.3.0, the default evaluation metric used with the objective 'binary:logistic' was changed from 'error' to 'logloss'. Explicitly set eval_metric if you'd like to restore the old behavior.\n",
      "Training LGBMClassifier...\n",
      "Training LogisticRegression...\n",
      "Training RandomForestClassifier...\n",
      "Training BalancedRandomForestClassifier...\n",
      "Training KNeighborsClassifier...\n",
      "Training SGDClassifier...\n",
      "Training GaussianNB...\n"
     ]
    },
    {
     "data": {
      "text/html": [
       "<div>\n",
       "<style scoped>\n",
       "    .dataframe tbody tr th:only-of-type {\n",
       "        vertical-align: middle;\n",
       "    }\n",
       "\n",
       "    .dataframe tbody tr th {\n",
       "        vertical-align: top;\n",
       "    }\n",
       "\n",
       "    .dataframe thead th {\n",
       "        text-align: right;\n",
       "    }\n",
       "</style>\n",
       "<table border=\"1\" class=\"dataframe\">\n",
       "  <thead>\n",
       "    <tr style=\"text-align: right;\">\n",
       "      <th></th>\n",
       "      <th>Model Name</th>\n",
       "      <th>Accuracy</th>\n",
       "      <th>Bal Accuracy</th>\n",
       "      <th>Precision</th>\n",
       "      <th>Recall</th>\n",
       "      <th>F1-Score</th>\n",
       "      <th>ROC-AUC</th>\n",
       "      <th>Kappa</th>\n",
       "      <th>Brier</th>\n",
       "    </tr>\n",
       "  </thead>\n",
       "  <tbody>\n",
       "    <tr>\n",
       "      <th>0</th>\n",
       "      <td>BalancedRandomForestClassifier</td>\n",
       "      <td>0.68166</td>\n",
       "      <td>0.79326</td>\n",
       "      <td>0.27573</td>\n",
       "      <td>0.94233</td>\n",
       "      <td>0.42663</td>\n",
       "      <td>0.79326</td>\n",
       "      <td>0.28821</td>\n",
       "      <td>0.31834</td>\n",
       "    </tr>\n",
       "    <tr>\n",
       "      <th>0</th>\n",
       "      <td>GaussianNB</td>\n",
       "      <td>0.64210</td>\n",
       "      <td>0.78628</td>\n",
       "      <td>0.25723</td>\n",
       "      <td>0.97886</td>\n",
       "      <td>0.40741</td>\n",
       "      <td>0.78628</td>\n",
       "      <td>0.26013</td>\n",
       "      <td>0.35790</td>\n",
       "    </tr>\n",
       "    <tr>\n",
       "      <th>0</th>\n",
       "      <td>KNeighborsClassifier</td>\n",
       "      <td>0.84601</td>\n",
       "      <td>0.57811</td>\n",
       "      <td>0.33085</td>\n",
       "      <td>0.22025</td>\n",
       "      <td>0.26445</td>\n",
       "      <td>0.57811</td>\n",
       "      <td>0.18231</td>\n",
       "      <td>0.15399</td>\n",
       "    </tr>\n",
       "    <tr>\n",
       "      <th>0</th>\n",
       "      <td>CatBoostClassifier</td>\n",
       "      <td>0.87432</td>\n",
       "      <td>0.50000</td>\n",
       "      <td>0.00000</td>\n",
       "      <td>0.00000</td>\n",
       "      <td>0.00000</td>\n",
       "      <td>0.50000</td>\n",
       "      <td>0.00000</td>\n",
       "      <td>0.12568</td>\n",
       "    </tr>\n",
       "    <tr>\n",
       "      <th>0</th>\n",
       "      <td>XGBClassifier</td>\n",
       "      <td>0.87432</td>\n",
       "      <td>0.50000</td>\n",
       "      <td>0.00000</td>\n",
       "      <td>0.00000</td>\n",
       "      <td>0.00000</td>\n",
       "      <td>0.50000</td>\n",
       "      <td>0.00000</td>\n",
       "      <td>0.12568</td>\n",
       "    </tr>\n",
       "    <tr>\n",
       "      <th>0</th>\n",
       "      <td>LGBMClassifier</td>\n",
       "      <td>0.87432</td>\n",
       "      <td>0.50000</td>\n",
       "      <td>0.00000</td>\n",
       "      <td>0.00000</td>\n",
       "      <td>0.00000</td>\n",
       "      <td>0.50000</td>\n",
       "      <td>0.00000</td>\n",
       "      <td>0.12568</td>\n",
       "    </tr>\n",
       "    <tr>\n",
       "      <th>0</th>\n",
       "      <td>LogisticRegression</td>\n",
       "      <td>0.87432</td>\n",
       "      <td>0.50000</td>\n",
       "      <td>0.00000</td>\n",
       "      <td>0.00000</td>\n",
       "      <td>0.00000</td>\n",
       "      <td>0.50000</td>\n",
       "      <td>0.00000</td>\n",
       "      <td>0.12568</td>\n",
       "    </tr>\n",
       "    <tr>\n",
       "      <th>0</th>\n",
       "      <td>RandomForestClassifier</td>\n",
       "      <td>0.87432</td>\n",
       "      <td>0.50000</td>\n",
       "      <td>0.00000</td>\n",
       "      <td>0.00000</td>\n",
       "      <td>0.00000</td>\n",
       "      <td>0.50000</td>\n",
       "      <td>0.00000</td>\n",
       "      <td>0.12568</td>\n",
       "    </tr>\n",
       "    <tr>\n",
       "      <th>0</th>\n",
       "      <td>SGDClassifier</td>\n",
       "      <td>0.87432</td>\n",
       "      <td>0.50000</td>\n",
       "      <td>0.00000</td>\n",
       "      <td>0.00000</td>\n",
       "      <td>0.00000</td>\n",
       "      <td>0.50000</td>\n",
       "      <td>0.00000</td>\n",
       "      <td>0.12568</td>\n",
       "    </tr>\n",
       "  </tbody>\n",
       "</table>\n",
       "</div>"
      ],
      "text/plain": [
       "                       Model Name  Accuracy  Bal Accuracy  Precision  Recall  F1-Score  ROC-AUC   Kappa   Brier\n",
       "0  BalancedRandomForestClassifier   0.68166       0.79326    0.27573 0.94233   0.42663  0.79326 0.28821 0.31834\n",
       "0                      GaussianNB   0.64210       0.78628    0.25723 0.97886   0.40741  0.78628 0.26013 0.35790\n",
       "0            KNeighborsClassifier   0.84601       0.57811    0.33085 0.22025   0.26445  0.57811 0.18231 0.15399\n",
       "0              CatBoostClassifier   0.87432       0.50000    0.00000 0.00000   0.00000  0.50000 0.00000 0.12568\n",
       "0                   XGBClassifier   0.87432       0.50000    0.00000 0.00000   0.00000  0.50000 0.00000 0.12568\n",
       "0                  LGBMClassifier   0.87432       0.50000    0.00000 0.00000   0.00000  0.50000 0.00000 0.12568\n",
       "0              LogisticRegression   0.87432       0.50000    0.00000 0.00000   0.00000  0.50000 0.00000 0.12568\n",
       "0          RandomForestClassifier   0.87432       0.50000    0.00000 0.00000   0.00000  0.50000 0.00000 0.12568\n",
       "0                   SGDClassifier   0.87432       0.50000    0.00000 0.00000   0.00000  0.50000 0.00000 0.12568"
      ]
     },
     "execution_count": 215,
     "metadata": {},
     "output_type": "execute_result"
    }
   ],
   "source": [
    "# algorithms\n",
    "models = [CatBoostClassifier(random_state=28, verbose=False),\n",
    "          XGBClassifier(random_state=28),\n",
    "          LGBMClassifier(random_state=28, n_jobs=-1),\n",
    "          LogisticRegression(max_iter=220, random_state=28),\n",
    "          RandomForestClassifier(random_state=28),\n",
    "          BalancedRandomForestClassifier(random_state=28),\n",
    "          KNeighborsClassifier(n_neighbors=5,  weights='distance',n_jobs=-1),\n",
    "          SGDClassifier(loss='log', random_state=28, n_jobs=-1), \n",
    "          GaussianNB()]\n",
    "\n",
    "ml_performance(models, x_train, y_train, x_valid, y_valid, 0.50)"
   ]
  },
  {
   "cell_type": "markdown",
   "metadata": {},
   "source": [
    "## As can be seen the difference is small, so it is possible to use just three variables as features for predictions. However, for now, it will be used all the features to maximize results."
   ]
  },
  {
   "cell_type": "markdown",
   "metadata": {},
   "source": [
    "# Confusion Matrix of Default Balanced Random Forest"
   ]
  },
  {
   "cell_type": "code",
   "execution_count": 220,
   "metadata": {
    "ExecuteTime": {
     "end_time": "2021-01-10T07:48:33.326388Z",
     "start_time": "2021-01-10T07:48:33.315137Z"
    }
   },
   "outputs": [],
   "source": [
    "# load all data\n",
    "x_train = pickle.load(open('data/x_train.pkl', 'rb'))\n",
    "x_valid = pickle.load(open('data/x_valid.pkl', 'rb'))\n",
    "x_test = pickle.load(open('data/x_test.pkl', 'rb'))\n",
    "y_train = pickle.load(open('data/y_train.pkl', 'rb'))\n",
    "y_valid = pickle.load(open('data/y_valid.pkl', 'rb'))\n",
    "y_test = pickle.load(open('data/y_test.pkl', 'rb'))"
   ]
  },
  {
   "cell_type": "code",
   "execution_count": 221,
   "metadata": {
    "ExecuteTime": {
     "end_time": "2021-01-10T07:48:45.092078Z",
     "start_time": "2021-01-10T07:48:34.102047Z"
    }
   },
   "outputs": [
    {
     "data": {
      "image/png": "[encoded data removed]",
      "text/plain": [
       "<Figure size 720x720 with 2 Axes>"
      ]
     },
     "metadata": {},
     "output_type": "display_data"
    }
   ],
   "source": [
    "conf_matrix(BalancedRandomForestClassifier(random_state=28), x_train, y_train, x_valid, y_valid)"
   ]
  },
  {
   "cell_type": "markdown",
   "metadata": {},
   "source": [
    "# Classification Report of BRFC"
   ]
  },
  {
   "cell_type": "code",
   "execution_count": 224,
   "metadata": {
    "ExecuteTime": {
     "end_time": "2021-01-10T07:49:43.444650Z",
     "start_time": "2021-01-10T07:49:32.175776Z"
    }
   },
   "outputs": [
    {
     "name": "stdout",
     "output_type": "stream",
     "text": [
      "BalancedRandomForestClassifier\n",
      "              precision    recall  f1-score   support\n",
      "\n",
      "           0       0.98      0.68      0.80     26657\n",
      "           1       0.29      0.91      0.44      3832\n",
      "\n",
      "    accuracy                           0.71     30489\n",
      "   macro avg       0.64      0.79      0.62     30489\n",
      "weighted avg       0.89      0.71      0.76     30489\n",
      "\n"
     ]
    }
   ],
   "source": [
    "brfc = BalancedRandomForestClassifier(random_state=28).fit(x_train, y_train)\n",
    "\n",
    "# predictions\n",
    "y_brfc = brfc.predict(x_valid)\n",
    "\n",
    "# prints\n",
    "print(type(brfc).__name__)\n",
    "print(classification_report(y_valid, y_brfc))"
   ]
  },
  {
   "cell_type": "markdown",
   "metadata": {},
   "source": [
    "# Best Threshold for ROC AUC"
   ]
  },
  {
   "cell_type": "code",
   "execution_count": 251,
   "metadata": {
    "ExecuteTime": {
     "end_time": "2021-01-10T08:20:02.541141Z",
     "start_time": "2021-01-10T08:19:51.152509Z"
    }
   },
   "outputs": [
    {
     "name": "stdout",
     "output_type": "stream",
     "text": [
      "Best Threshold=0.530000, G-Mean=0.786\n"
     ]
    },
    {
     "data": {
      "image/png": "[encoded data removed]",
      "text/plain": [
       "<Figure size 1080x576 with 1 Axes>"
      ]
     },
     "metadata": {},
     "output_type": "display_data"
    }
   ],
   "source": [
    "# model\n",
    "brfc = BalancedRandomForestClassifier(random_state=28).fit(x_train, y_train)\n",
    "\n",
    "# predict probabilities and get the positive outcome only\n",
    "brfc_yhat = brfc.predict_proba(x_valid)\n",
    "\n",
    "# keep probabilities for the positive outcome only\n",
    "brfc_yhat = brfc_yhat[:, 1]\n",
    "\n",
    "# calculate roc curves\n",
    "fpr, tpr, thresholds = roc_curve(y_valid, brfc_yhat)\n",
    "\n",
    "# calculate the g-mean for each threshold\n",
    "gmeans = sqrt(tpr * (1-fpr))\n",
    "\n",
    "# locate the index of the largest g-mean\n",
    "ix = argmax(gmeans)\n",
    "print('Best Threshold=%f, G-Mean=%.3f' % (thresholds[ix], gmeans[ix]))\n",
    "\n",
    "# plot the roc curve for the model\n",
    "plt.figure(figsize=(15,8))\n",
    "plt.yticks(size=14)\n",
    "plt.xticks(size=14)\n",
    "plt.plot([0,1], [0,1], linestyle='--', label='No Skill')\n",
    "plt.plot(fpr, tpr, marker='.', label='Logistic')\n",
    "plt.scatter(fpr[ix], tpr[ix], marker='o', color='black', s=150, label='Best')\n",
    "plt.xlabel('False Positive Rate',size =18)\n",
    "plt.ylabel('True Positive Rate', size =18)\n",
    "plt.legend(prop={'size': 14})\n",
    "plt.show()"
   ]
  },
  {
   "cell_type": "markdown",
   "metadata": {},
   "source": [
    "## Performance with best ROC Curve threshold"
   ]
  },
  {
   "cell_type": "code",
   "execution_count": 245,
   "metadata": {
    "ExecuteTime": {
     "end_time": "2021-01-10T08:15:04.616853Z",
     "start_time": "2021-01-10T08:14:52.988944Z"
    }
   },
   "outputs": [
    {
     "name": "stdout",
     "output_type": "stream",
     "text": [
      "Training BalancedRandomForestClassifier...\n"
     ]
    },
    {
     "data": {
      "text/html": [
       "<div>\n",
       "<style scoped>\n",
       "    .dataframe tbody tr th:only-of-type {\n",
       "        vertical-align: middle;\n",
       "    }\n",
       "\n",
       "    .dataframe tbody tr th {\n",
       "        vertical-align: top;\n",
       "    }\n",
       "\n",
       "    .dataframe thead th {\n",
       "        text-align: right;\n",
       "    }\n",
       "</style>\n",
       "<table border=\"1\" class=\"dataframe\">\n",
       "  <thead>\n",
       "    <tr style=\"text-align: right;\">\n",
       "      <th></th>\n",
       "      <th>Model Name</th>\n",
       "      <th>Accuracy</th>\n",
       "      <th>Bal Accuracy</th>\n",
       "      <th>Precision</th>\n",
       "      <th>Recall</th>\n",
       "      <th>F1-Score</th>\n",
       "      <th>ROC-AUC</th>\n",
       "      <th>Kappa</th>\n",
       "      <th>Brier</th>\n",
       "    </tr>\n",
       "  </thead>\n",
       "  <tbody>\n",
       "    <tr>\n",
       "      <th>0</th>\n",
       "      <td>BalancedRandomForestClassifier</td>\n",
       "      <td>0.71705</td>\n",
       "      <td>0.79294</td>\n",
       "      <td>0.29419</td>\n",
       "      <td>0.89431</td>\n",
       "      <td>0.44274</td>\n",
       "      <td>0.79294</td>\n",
       "      <td>0.31274</td>\n",
       "      <td>0.28295</td>\n",
       "    </tr>\n",
       "  </tbody>\n",
       "</table>\n",
       "</div>"
      ],
      "text/plain": [
       "                       Model Name  Accuracy  Bal Accuracy  Precision  Recall  F1-Score  ROC-AUC   Kappa   Brier\n",
       "0  BalancedRandomForestClassifier   0.71705       0.79294    0.29419 0.89431   0.44274  0.79294 0.31274 0.28295"
      ]
     },
     "execution_count": 245,
     "metadata": {},
     "output_type": "execute_result"
    }
   ],
   "source": [
    "models = [BalancedRandomForestClassifier(random_state=28)]\n",
    "\n",
    "ml_performance(models, x_train, y_train, x_valid, y_valid, 0.53)"
   ]
  },
  {
   "cell_type": "markdown",
   "metadata": {},
   "source": [
    "# Best Threshold for Precision Recall Curve"
   ]
  },
  {
   "cell_type": "code",
   "execution_count": 268,
   "metadata": {
    "ExecuteTime": {
     "end_time": "2021-01-10T08:48:00.161390Z",
     "start_time": "2021-01-10T08:47:48.882452Z"
    }
   },
   "outputs": [
    {
     "name": "stdout",
     "output_type": "stream",
     "text": [
      "Best Threshold=0.980000, F1-Score=nan\n"
     ]
    },
    {
     "data": {
      "image/png": "[encoded data removed]",
      "text/plain": [
       "<Figure size 1080x576 with 1 Axes>"
      ]
     },
     "metadata": {},
     "output_type": "display_data"
    }
   ],
   "source": [
    "# model\n",
    "brfc = BalancedRandomForestClassifier(random_state=28).fit(x_train, y_train)\n",
    "\n",
    "# predict probabilities and get the positive outcome only\n",
    "brfc_yhat = brfc.predict_proba(x_valid)\n",
    "\n",
    "# keep probabilities for the positive outcome only\n",
    "brfc_yhat = brfc_yhat[:, 1]\n",
    "\n",
    "# calculate roc curves\n",
    "precision, recall, thresholds = precision_recall_curve(y_valid, brfc_yhat)\n",
    "\n",
    "# convert to f score\n",
    "fscore = (2 * precision * recall) / (precision + recall)\n",
    "\n",
    "# locate the index of the largest f score\n",
    "ix = argmax(fscore)\n",
    "print('Best Threshold=%f, F1-Score=%.3f' % (thresholds[ix], fscore[ix]))\n",
    "\n",
    "# plot the roc curve for the model\n",
    "plt.figure(figsize=(15,8))\n",
    "plt.yticks(size=14)\n",
    "plt.xticks(size=14)\n",
    "no_skill = len(y_valid[y_valid==1]) / len(y_valid)\n",
    "plt.plot([0,1], [no_skill,no_skill], linestyle='--', label='No Skill')\n",
    "plt.plot(recall, precision, marker='.', label='Logistic')\n",
    "plt.scatter(recall[ix], precision[ix], marker='o', color='black', label='Best')\n",
    "\n",
    "# axis labels\n",
    "plt.xlabel('Recall',size =18)\n",
    "plt.ylabel('Precision', size =18)\n",
    "plt.legend(prop={'size': 14})\n",
    "plt.show()"
   ]
  },
  {
   "cell_type": "markdown",
   "metadata": {},
   "source": [
    "## Performance with best Precision Recall Curve threshold"
   ]
  },
  {
   "cell_type": "code",
   "execution_count": 275,
   "metadata": {
    "ExecuteTime": {
     "end_time": "2021-01-10T09:05:52.230210Z",
     "start_time": "2021-01-10T09:05:41.261427Z"
    }
   },
   "outputs": [
    {
     "name": "stdout",
     "output_type": "stream",
     "text": [
      "Training BalancedRandomForestClassifier...\n"
     ]
    },
    {
     "data": {
      "text/html": [
       "<div>\n",
       "<style scoped>\n",
       "    .dataframe tbody tr th:only-of-type {\n",
       "        vertical-align: middle;\n",
       "    }\n",
       "\n",
       "    .dataframe tbody tr th {\n",
       "        vertical-align: top;\n",
       "    }\n",
       "\n",
       "    .dataframe thead th {\n",
       "        text-align: right;\n",
       "    }\n",
       "</style>\n",
       "<table border=\"1\" class=\"dataframe\">\n",
       "  <thead>\n",
       "    <tr style=\"text-align: right;\">\n",
       "      <th></th>\n",
       "      <th>Model Name</th>\n",
       "      <th>Accuracy</th>\n",
       "      <th>Bal Accuracy</th>\n",
       "      <th>Precision</th>\n",
       "      <th>Recall</th>\n",
       "      <th>F1-Score</th>\n",
       "      <th>ROC-AUC</th>\n",
       "      <th>Kappa</th>\n",
       "      <th>Brier</th>\n",
       "    </tr>\n",
       "  </thead>\n",
       "  <tbody>\n",
       "    <tr>\n",
       "      <th>0</th>\n",
       "      <td>BalancedRandomForestClassifier</td>\n",
       "      <td>0.87422</td>\n",
       "      <td>0.49994</td>\n",
       "      <td>0.00000</td>\n",
       "      <td>0.00000</td>\n",
       "      <td>0.00000</td>\n",
       "      <td>0.49994</td>\n",
       "      <td>-0.00020</td>\n",
       "      <td>0.12578</td>\n",
       "    </tr>\n",
       "  </tbody>\n",
       "</table>\n",
       "</div>"
      ],
      "text/plain": [
       "                       Model Name  Accuracy  Bal Accuracy  Precision  Recall  F1-Score  ROC-AUC    Kappa   Brier\n",
       "0  BalancedRandomForestClassifier   0.87422       0.49994    0.00000 0.00000   0.00000  0.49994 -0.00020 0.12578"
      ]
     },
     "execution_count": 275,
     "metadata": {},
     "output_type": "execute_result"
    }
   ],
   "source": [
    "# algorithm\n",
    "models = [BalancedRandomForestClassifier(random_state=28)]\n",
    "\n",
    "ml_performance(models, x_train, y_train, x_valid, y_valid, 0.98)"
   ]
  },
  {
   "cell_type": "markdown",
   "metadata": {
    "ExecuteTime": {
     "end_time": "2020-12-14T17:10:36.761831Z",
     "start_time": "2020-12-14T17:10:36.746872Z"
    }
   },
   "source": [
    "# Hyperparameter Fine Tuning"
   ]
  },
  {
   "cell_type": "code",
   "execution_count": 279,
   "metadata": {
    "ExecuteTime": {
     "end_time": "2021-01-10T10:28:46.727445Z",
     "start_time": "2021-01-10T10:28:46.718591Z"
    }
   },
   "outputs": [],
   "source": [
    "x_train = pickle.load( open( 'data/x_train.pkl', 'rb' ) )\n",
    "y_train = pickle.load( open( 'data/y_train.pkl', 'rb' ) )"
   ]
  },
  {
   "cell_type": "markdown",
   "metadata": {},
   "source": [
    "## Bayes Search"
   ]
  },
  {
   "cell_type": "code",
   "execution_count": 293,
   "metadata": {
    "ExecuteTime": {
     "end_time": "2021-01-10T12:04:16.146530Z",
     "start_time": "2021-01-10T11:42:28.719426Z"
    }
   },
   "outputs": [
    {
     "name": "stdout",
     "output_type": "stream",
     "text": [
      "Results from Bayes Search\n",
      "\n",
      " The best estimator across ALL searched params:\n",
      " BalancedRandomForestClassifier(max_depth=50, max_samples=3500,\n",
      "                               min_impurity_decrease=20, min_samples_leaf=10,\n",
      "                               min_samples_split=400, random_state=28)\n",
      "\n",
      " The best score across ALL searched params:\n",
      " 0.8777833657679721\n",
      "\n",
      " The best parameters across ALL searched params:\n",
      " OrderedDict([('criterion', 'gini'), ('max_depth', 50), ('max_features', 'auto'), ('max_samples', 3500), ('min_impurity_decrease', 20), ('min_samples_leaf', 10), ('min_samples_split', 400), ('n_estimators', 100), ('replacement', False)])\n"
     ]
    }
   ],
   "source": [
    "#Using BayesSearchCV\n",
    "brfc = BalancedRandomForestClassifier(random_state=28)\n",
    "params = {'n_estimators': [10,25,50,80,100,150,200,400,500,700,800,1000,1500,1700,2500,3000,3500],\n",
    "          'min_samples_split': [2,3,4,5,6,7,8,9,10,20,30,50,80,100,200,300,400,500,800,1000],\n",
    "          'min_samples_leaf': [2,3,4,5,6,7,8,9,10,20,30,50,80,100,200,300,400,500,800,1000],\n",
    "          'max_features': ['auto','sqrt','log2'],\n",
    "          'max_depth' : [3,4,5,6,7,8,10,12,15,20,25,30,50,80,100],\n",
    "          'criterion' :['gini', 'entropy'],\n",
    "          'min_impurity_decrease': [0,1,2,3,4,5,6,7,8,9,10,20,30,40,50],\n",
    "          'replacement': [True, False],\n",
    "          'max_samples': [1,2,3,4,5,6,7,8,9,10,20,30,50,80,100,200,300,400,500,800,1000,1500,1700,2500,3000,3500]}\n",
    "\n",
    "bayes_brfc = BayesSearchCV(estimator=brfc, search_spaces=params, cv=2, n_jobs=-1)\n",
    "bayes_brfc.fit(x_train, y_train)\n",
    "\n",
    "# Results from Grid Search\n",
    "print(\"Results from Bayes Search\" )\n",
    "print(\"\\n The best estimator across ALL searched params:\\n\",bayes_brfc.best_estimator_)\n",
    "print(\"\\n The best score across ALL searched params:\\n\",bayes_brfc.best_score_)\n",
    "print(\"\\n The best parameters across ALL searched params:\\n\",bayes_brfc.best_params_)"
   ]
  },
  {
   "cell_type": "markdown",
   "metadata": {},
   "source": [
    "# Tuned Model Performance"
   ]
  },
  {
   "cell_type": "code",
   "execution_count": 302,
   "metadata": {
    "ExecuteTime": {
     "end_time": "2021-01-10T12:12:45.632195Z",
     "start_time": "2021-01-10T12:12:39.824350Z"
    }
   },
   "outputs": [
    {
     "name": "stdout",
     "output_type": "stream",
     "text": [
      "Training BalancedRandomForestClassifier...\n"
     ]
    },
    {
     "data": {
      "text/html": [
       "<div>\n",
       "<style scoped>\n",
       "    .dataframe tbody tr th:only-of-type {\n",
       "        vertical-align: middle;\n",
       "    }\n",
       "\n",
       "    .dataframe tbody tr th {\n",
       "        vertical-align: top;\n",
       "    }\n",
       "\n",
       "    .dataframe thead th {\n",
       "        text-align: right;\n",
       "    }\n",
       "</style>\n",
       "<table border=\"1\" class=\"dataframe\">\n",
       "  <thead>\n",
       "    <tr style=\"text-align: right;\">\n",
       "      <th></th>\n",
       "      <th>Model Name</th>\n",
       "      <th>Accuracy</th>\n",
       "      <th>Bal Accuracy</th>\n",
       "      <th>Precision</th>\n",
       "      <th>Recall</th>\n",
       "      <th>F1-Score</th>\n",
       "      <th>ROC-AUC</th>\n",
       "      <th>Kappa</th>\n",
       "      <th>Brier</th>\n",
       "    </tr>\n",
       "  </thead>\n",
       "  <tbody>\n",
       "    <tr>\n",
       "      <th>0</th>\n",
       "      <td>BalancedRandomForestClassifier</td>\n",
       "      <td>0.87432</td>\n",
       "      <td>0.50000</td>\n",
       "      <td>0.00000</td>\n",
       "      <td>0.00000</td>\n",
       "      <td>0.00000</td>\n",
       "      <td>0.50000</td>\n",
       "      <td>0.00000</td>\n",
       "      <td>0.12568</td>\n",
       "    </tr>\n",
       "  </tbody>\n",
       "</table>\n",
       "</div>"
      ],
      "text/plain": [
       "                       Model Name  Accuracy  Bal Accuracy  Precision  Recall  F1-Score  ROC-AUC   Kappa   Brier\n",
       "0  BalancedRandomForestClassifier   0.87432       0.50000    0.00000 0.00000   0.00000  0.50000 0.00000 0.12568"
      ]
     },
     "execution_count": 302,
     "metadata": {},
     "output_type": "execute_result"
    }
   ],
   "source": [
    "# algorithm\n",
    "models = [BalancedRandomForestClassifier(criterion='gini', max_depth=50, max_features='auto',\n",
    "                                            max_samples=3500, min_impurity_decrease=20,\n",
    "                                            min_samples_leaf=10, min_samples_split=400,\n",
    "                                            n_estimators=100, replacement=False, random_state=28)]\n",
    "\n",
    "ml_performance(models, x_train, y_train, x_valid, y_valid, 0.53)"
   ]
  },
  {
   "cell_type": "markdown",
   "metadata": {},
   "source": [
    "# Confusion Matrix of Tuned Balanced Random Forest "
   ]
  },
  {
   "cell_type": "code",
   "execution_count": 303,
   "metadata": {
    "ExecuteTime": {
     "end_time": "2021-01-10T12:13:12.895240Z",
     "start_time": "2021-01-10T12:13:06.941596Z"
    }
   },
   "outputs": [
    {
     "data": {
      "image/png": "[encoded data removed]",
      "text/plain": [
       "<Figure size 720x720 with 2 Axes>"
      ]
     },
     "metadata": {},
     "output_type": "display_data"
    }
   ],
   "source": [
    "brfc = BalancedRandomForestClassifier(criterion='gini', max_depth=50, max_features='auto',\n",
    "                                            max_samples=3500, min_impurity_decrease=20,\n",
    "                                            min_samples_leaf=10, min_samples_split=400,\n",
    "                                            n_estimators=100, replacement=False, random_state=28)\n",
    "\n",
    "conf_matrix(brfc, x_train, y_train, x_valid, y_valid)"
   ]
  },
  {
   "cell_type": "markdown",
   "metadata": {},
   "source": [
    "# Calibration"
   ]
  },
  {
   "cell_type": "code",
   "execution_count": 301,
   "metadata": {
    "ExecuteTime": {
     "end_time": "2021-01-10T12:12:39.738213Z",
     "start_time": "2021-01-10T12:10:46.446661Z"
    }
   },
   "outputs": [
    {
     "name": "stdout",
     "output_type": "stream",
     "text": [
      "Best F1-Score: 0.000000 using {'cv': 2, 'method': 'sigmoid'}\n",
      "0.000000 (0.000000) with: {'cv': 2, 'method': 'sigmoid'}\n",
      "0.000000 (0.000000) with: {'cv': 2, 'method': 'isotonic'}\n",
      "0.000000 (0.000000) with: {'cv': 3, 'method': 'sigmoid'}\n",
      "0.000000 (0.000000) with: {'cv': 3, 'method': 'isotonic'}\n",
      "0.000000 (0.000000) with: {'cv': 4, 'method': 'sigmoid'}\n",
      "0.000000 (0.000000) with: {'cv': 4, 'method': 'isotonic'}\n",
      "0.000000 (0.000000) with: {'cv': 5, 'method': 'sigmoid'}\n",
      "0.000000 (0.000000) with: {'cv': 5, 'method': 'isotonic'}\n"
     ]
    }
   ],
   "source": [
    "# balanced random forest tuned\n",
    "brfc_tuned = BalancedRandomForestClassifier(criterion='gini', max_depth=50, max_features='auto',\n",
    "                                            max_samples=3500, min_impurity_decrease=20,\n",
    "                                            min_samples_leaf=10, min_samples_split=400,\n",
    "                                            n_estimators=100, replacement=False, random_state=28)\n",
    "\n",
    "# wrap the model\n",
    "calibrated = CalibratedClassifierCV(brfc_tuned)\n",
    "\n",
    "# define grid\n",
    "param_grid = dict(cv=[2,3,4,5], method=['sigmoid','isotonic'])\n",
    "\n",
    "# define evaluation procedure\n",
    "cv = RepeatedStratifiedKFold(n_splits=12, n_repeats=3, random_state=28)\n",
    "\n",
    "# define grid search\n",
    "grid = GridSearchCV(estimator=calibrated, param_grid=param_grid, n_jobs=-1, cv=cv, scoring='f1')\n",
    "\n",
    "# execute the grid search\n",
    "grid_result = grid.fit(x_valid, y_valid)\n",
    "\n",
    "# report the best configuration\n",
    "print(\"Best F1-Score: %f using %s\" % (grid_result.best_score_, grid_result.best_params_))\n",
    "\n",
    "# report all configurations\n",
    "means = grid_result.cv_results_['mean_test_score']\n",
    "stds = grid_result.cv_results_['std_test_score']\n",
    "params = grid_result.cv_results_['params']\n",
    "for mean, stdev, param in zip(means, stds, params):\n",
    "    print(\"%f (%f) with: %r\" % (mean, stdev, param))"
   ]
  },
  {
   "cell_type": "markdown",
   "metadata": {},
   "source": [
    "# Cross Validation"
   ]
  },
  {
   "cell_type": "code",
   "execution_count": 279,
   "metadata": {
    "ExecuteTime": {
     "end_time": "2021-01-10T10:28:46.727445Z",
     "start_time": "2021-01-10T10:28:46.718591Z"
    }
   },
   "outputs": [],
   "source": [
    "x_train = pickle.load(open('data/x_train.pkl', 'rb'))\n",
    "x_valid = pickle.load(open('data/x_valid.pkl', 'rb'))\n",
    "y_train = pickle.load(open('data/y_train.pkl', 'rb'))\n",
    "y_valid = pickle.load(open('data/y_valid.pkl', 'rb'))"
   ]
  },
  {
   "cell_type": "code",
   "execution_count": 312,
   "metadata": {
    "ExecuteTime": {
     "end_time": "2021-01-10T12:34:06.909318Z",
     "start_time": "2021-01-10T12:28:06.598112Z"
    }
   },
   "outputs": [
    {
     "data": {
      "text/html": [
       "<div>\n",
       "<style scoped>\n",
       "    .dataframe tbody tr th:only-of-type {\n",
       "        vertical-align: middle;\n",
       "    }\n",
       "\n",
       "    .dataframe tbody tr th {\n",
       "        vertical-align: top;\n",
       "    }\n",
       "\n",
       "    .dataframe thead th {\n",
       "        text-align: right;\n",
       "    }\n",
       "</style>\n",
       "<table border=\"1\" class=\"dataframe\">\n",
       "  <thead>\n",
       "    <tr style=\"text-align: right;\">\n",
       "      <th></th>\n",
       "      <th>Model Name</th>\n",
       "      <th>Accuracy (Avg+Std)</th>\n",
       "      <th>Bal Accuracy (Avg+Std)</th>\n",
       "      <th>Precision (Avg+Std)</th>\n",
       "      <th>Recall (Avg+Std)</th>\n",
       "      <th>F1-Score (Avg+Std)</th>\n",
       "      <th>ROC-AUC (Avg+Std)</th>\n",
       "    </tr>\n",
       "  </thead>\n",
       "  <tbody>\n",
       "    <tr>\n",
       "      <th>0</th>\n",
       "      <td>BalancedRandomForestClassifier</td>\n",
       "      <td>0.1226 +/- %0.0000</td>\n",
       "      <td>0.5000 +/- %0.0000</td>\n",
       "      <td>0.1226 +/- %0.0000</td>\n",
       "      <td>1.0000 +/- %0.0000</td>\n",
       "      <td>0.2184 +/- %0.0000</td>\n",
       "      <td>0.5000 +/- %0.0000</td>\n",
       "    </tr>\n",
       "  </tbody>\n",
       "</table>\n",
       "</div>"
      ],
      "text/plain": [
       "                       Model Name  Accuracy (Avg+Std) Bal Accuracy (Avg+Std) Precision (Avg+Std)    Recall (Avg+Std)   F1-Score (Avg+Std)   ROC-AUC (Avg+Std)\n",
       "0  BalancedRandomForestClassifier  0.1226 +/- %0.0000     0.5000 +/- %0.0000   0.1226 +/- %0.0000  1.0000 +/- %0.0000  0.2184 +/- %0.0000  0.5000 +/- %0.0000"
      ]
     },
     "execution_count": 312,
     "metadata": {},
     "output_type": "execute_result"
    }
   ],
   "source": [
    "# concat\n",
    "X = pd.concat([x_train, x_valid], axis = 0)\n",
    "y = pd.concat([y_train, y_valid], axis = 0)\n",
    "\n",
    "model = [BalancedRandomForestClassifier(random_state=28)]\n",
    "\n",
    "# define evaluation\n",
    "cv = RepeatedStratifiedKFold(n_splits=12, n_repeats=3, random_state=28)\n",
    "\n",
    "# cross validation\n",
    "cross_validation(model, X, y, cv)"
   ]
  },
  {
   "cell_type": "markdown",
   "metadata": {},
   "source": [
    "## The tuned model is overfitting "
   ]
  },
  {
   "cell_type": "code",
   "execution_count": null,
   "metadata": {},
   "outputs": [],
   "source": []
  }
 ],
 "metadata": {
  "hide_input": false,
  "kernelspec": {
   "display_name": "Python 3",
   "language": "python",
   "name": "python3"
  },
  "language_info": {
   "codemirror_mode": {
    "name": "ipython",
    "version": 3
   },
   "file_extension": ".py",
   "mimetype": "text/x-python",
   "name": "python",
   "nbconvert_exporter": "python",
   "pygments_lexer": "ipython3",
   "version": "3.8.5"
  },
  "toc": {
   "base_numbering": 1,
   "nav_menu": {
    "height": "433px",
    "width": "458px"
   },
   "number_sections": false,
   "sideBar": true,
   "skip_h1_title": false,
   "title_cell": "Table of Contents",
   "title_sidebar": "Contents",
   "toc_cell": false,
   "toc_position": {
    "height": "calc(100% - 180px)",
    "left": "10px",
    "top": "150px",
    "width": "305px"
   },
   "toc_section_display": true,
   "toc_window_display": false
  },
  "varInspector": {
   "cols": {
    "lenName": 16,
    "lenType": 16,
    "lenVar": 40
   },
   "kernels_config": {
    "python": {
     "delete_cmd_postfix": "",
     "delete_cmd_prefix": "del ",
     "library": "var_list.py",
     "varRefreshCmd": "print(var_dic_list())"
    },
    "r": {
     "delete_cmd_postfix": ") ",
     "delete_cmd_prefix": "rm(",
     "library": "var_list.r",
     "varRefreshCmd": "cat(var_dic_list()) "
    }
   },
   "position": {
    "height": "882px",
    "left": "1192px",
    "right": "20px",
    "top": "13px",
    "width": "629px"
   },
   "types_to_exclude": [
    "module",
    "function",
    "builtin_function_or_method",
    "instance",
    "_Feature"
   ],
   "window_display": false
  }
 },
 "nbformat": 4,
 "nbformat_minor": 4
}
